{
 "cells": [
  {
   "cell_type": "markdown",
   "metadata": {},
   "source": [
    "# Lockdown baking - part 1\n",
    "\n",
    "A project for scraping and analysing data from reddit (r/Sourdough) to explore baking trends during 2020.\n",
    "\n",
    "Part 1: Webscraping\n",
    "\n",
    "- setting up reddit API account\n",
    "- creating functions for extracting data using [praw]( https://praw.readthedocs.io/en/latest/code_overview/models/submission.html) and [pushshift.io](https://pushshift.io/api-parameters/) \n",
    "- storing result in a csv file "
   ]
  },
  {
   "cell_type": "markdown",
   "metadata": {},
   "source": [
    "# Setup"
   ]
  },
  {
   "cell_type": "code",
   "execution_count": 7,
   "metadata": {},
   "outputs": [],
   "source": [
    "import pandas as pd\n",
    "import numpy as np\n",
    "import os #to change file paths\n",
    "import configparser #to read config file\n",
    "import praw #to access reddit API\n",
    "import pickle #to store objects\n",
    "import math\n",
    "import json\n",
    "import requests\n",
    "import itertools\n",
    "import time\n",
    "from datetime import datetime, timedelta"
   ]
  },
  {
   "cell_type": "code",
   "execution_count": 5,
   "metadata": {},
   "outputs": [],
   "source": [
    "## go to root folder\n",
    "os.chdir(\"..\")"
   ]
  },
  {
   "cell_type": "markdown",
   "metadata": {},
   "source": [
    "## Setting up reddit API connection"
   ]
  },
  {
   "cell_type": "code",
   "execution_count": 47,
   "metadata": {},
   "outputs": [],
   "source": [
    "# retrieve details from config file\n",
    "def get_config_values(config_file, section):\n",
    "    config = configparser.ConfigParser()\n",
    "    config.read(config_file)\n",
    "\n",
    "    return {\n",
    "        \"username\": config.get(section, 'username'),\n",
    "        \"password\": config.get(section, 'password'),\n",
    "        \"user_agent\": config.get(section, 'user_agent'),\n",
    "        \"client_id\": config.get(section, 'client_id'),\n",
    "        \"client_secret\": config.get(section, 'client_secret'),\n",
    "    }\n",
    "\n",
    "details = get_config_values(\"reddit-config.cfg\", \"reddit-config\")"
   ]
  },
  {
   "cell_type": "code",
   "execution_count": 48,
   "metadata": {},
   "outputs": [
    {
     "name": "stdout",
     "output_type": "stream",
     "text": [
      "False\n"
     ]
    }
   ],
   "source": [
    "# setup praw Reddit connection\n",
    "reddit = praw.Reddit(client_id = details[\"client_id\"], \n",
    "                     client_secret = details[\"client_secret\"], \n",
    "                     user_agent = details[\"user_agent\"], \n",
    "                     username = details[\"username\"], \n",
    "                     password = details[\"password\"]) \n",
    "  \n",
    "# to verify whether the instance is authorised instance or not \n",
    "print(reddit.read_only)"
   ]
  },
  {
   "cell_type": "code",
   "execution_count": 46,
   "metadata": {},
   "outputs": [
    {
     "data": {
      "text/plain": [
       "'vNW8cTO2bw2jJA'"
      ]
     },
     "execution_count": 46,
     "metadata": {},
     "output_type": "execute_result"
    }
   ],
   "source": [
    "details[\"client_id\"]"
   ]
  },
  {
   "cell_type": "code",
   "execution_count": 29,
   "metadata": {},
   "outputs": [
    {
     "data": {
      "text/plain": [
       "'Winter05'"
      ]
     },
     "execution_count": 29,
     "metadata": {},
     "output_type": "execute_result"
    }
   ],
   "source": [
    "config = configparser.ConfigParser()\n",
    "config.read(\"reddit-config.cfg\")\n",
    "username = config.get('reddit-config', 'username')\n",
    "password = config.get('reddit-config', 'password')"
   ]
  },
  {
   "cell_type": "code",
   "execution_count": 33,
   "metadata": {},
   "outputs": [
    {
     "name": "stdout",
     "output_type": "stream",
     "text": [
      "False\n"
     ]
    }
   ],
   "source": [
    "reddit = praw.Reddit(client_id ='vNW8cTO2bw2jJA', \n",
    "                     client_secret ='2abo8mFQWCHczgBIMha34yqcjdE0Jw', \n",
    "                     user_agent ='my user agent', \n",
    "                     username ='liloho', \n",
    "                     password ='Winter05') \n",
    "  \n",
    "# to verify whether the instance is authorised instance or not \n",
    "print(reddit.read_only) "
   ]
  },
  {
   "cell_type": "code",
   "execution_count": null,
   "metadata": {},
   "outputs": [],
   "source": [
    "from configparser import ConfigParser\n",
    "cfg = ConfigParser()\n",
    "cfg.read('config.ini')\n",
    "print('Sections in the file:', cfg.sections())\n",
    "print('hms: form value: ', cfg.get('hms','form'))\n",
    "print('hms: splashScreen value: ', cfg.getboolean('hms','splashScreen'))\n",
    "print('webutil: WebUtilDispatchMonitorInterval value: ', cfg.getint('webutil','WebUtilDispatchMonitorInterval'))\n",
    "\n",
    "Output:\n",
    "\n",
    "Sections in the file: ['sepwin', 'hms', 'debug', 'webutil']\n",
    "hms: form value:  hospital.fmx\n",
    "hms: splashScreen value:  False\n",
    "webutil: WebUtilDispatchMonitorInterval value:  5"
   ]
  },
  {
   "cell_type": "code",
   "execution_count": null,
   "metadata": {},
   "outputs": [],
   "source": [
    "#Importing the modules\n",
    "import os\n",
    "import ConfigParser\n",
    "import time\n",
    "\n",
    "# On Debian, /etc/mysql/debian.cnf contains 'root' a like login and password.\n",
    "config = ConfigParser.ConfigParser()\n",
    "config.read(\"/etc/mysql/debian.cnf\")\n",
    "username = config.get('client', 'user')\n",
    "password = config.get('client', 'password')\n",
    "hostname = config.get('client', 'host')\n",
    "\n",
    "\n",
    "\n",
    "filestamp = time.strftime('%Y-%m-%d')"
   ]
  }
 ],
 "metadata": {
  "kernelspec": {
   "display_name": "py3_breadit",
   "language": "python",
   "name": "py3_breadit"
  },
  "language_info": {
   "codemirror_mode": {
    "name": "ipython",
    "version": 3
   },
   "file_extension": ".py",
   "mimetype": "text/x-python",
   "name": "python",
   "nbconvert_exporter": "python",
   "pygments_lexer": "ipython3",
   "version": "3.9.1"
  },
  "toc": {
   "base_numbering": 1,
   "nav_menu": {},
   "number_sections": true,
   "sideBar": true,
   "skip_h1_title": false,
   "title_cell": "Table of Contents",
   "title_sidebar": "Contents",
   "toc_cell": false,
   "toc_position": {},
   "toc_section_display": true,
   "toc_window_display": false
  }
 },
 "nbformat": 4,
 "nbformat_minor": 2
}
