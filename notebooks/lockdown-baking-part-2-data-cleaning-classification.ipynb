{
 "cells": [
  {
   "cell_type": "markdown",
   "metadata": {},
   "source": [
    "# Lockdown baking - part 2\n",
    "\n",
    "A project for scraping and analysing data from reddit (r/Sourdough) to explore baking trends during 2020.\n",
    "\n",
    "Part 2: Data cleaning and classification"
   ]
  },
  {
   "cell_type": "markdown",
   "metadata": {},
   "source": [
    "# Setup"
   ]
  },
  {
   "cell_type": "code",
   "execution_count": 1,
   "metadata": {},
   "outputs": [],
   "source": [
    "## set root folder\n",
    "import os \n",
    "os.chdir(\"..\")"
   ]
  },
  {
   "cell_type": "code",
   "execution_count": 2,
   "metadata": {},
   "outputs": [],
   "source": [
    "import pandas as pd\n",
    "import numpy as np\n",
    "import matplotlib.pyplot as plt\n",
    "import calplot #to make calendar heat map\n",
    "\n",
    "%matplotlib inline"
   ]
  },
  {
   "cell_type": "markdown",
   "metadata": {},
   "source": [
    "# Clean data"
   ]
  },
  {
   "cell_type": "markdown",
   "metadata": {},
   "source": [
    "## Load data"
   ]
  },
  {
   "cell_type": "code",
   "execution_count": 48,
   "metadata": {},
   "outputs": [],
   "source": [
    "#load scraped datafiles\n",
    "df = pd.read_csv(\".\\\\data\\scraped\\post_df_2021-01-07.csv\")"
   ]
  },
  {
   "cell_type": "code",
   "execution_count": 17,
   "metadata": {},
   "outputs": [
    {
     "name": "stdout",
     "output_type": "stream",
     "text": [
      "(41309, 8)\n",
      "Index(['Unnamed: 0', 'id', 'score', 'created_utc', 'title', 'num_comments',\n",
      "       'can_mod_post', 'author'],\n",
      "      dtype='object')\n",
      "\n",
      "   Unnamed: 0      id  score  created_utc  \\\n",
      "0           0  eibhvl      1   1577839131   \n",
      "1           1  eibvur      1   1577841129   \n",
      "2           2  eiby7m      1   1577841483   \n",
      "\n",
      "                                               title  num_comments  \\\n",
      "0  First attempt at a starter, really hope I mana...             5   \n",
      "1  Skillet &amp; Dutch Oven Sourdough in the rain...             0   \n",
      "2  My last bread of 2019. I used Brad and Claire’...             0   \n",
      "\n",
      "   can_mod_post         author  \n",
      "0         False  coentertainer  \n",
      "1         False     Richness69  \n",
      "2         False     canioli019  \n"
     ]
    }
   ],
   "source": [
    "# explore shape and columns\n",
    "print(df.shape)\n",
    "print(df.columns)\n",
    "print(\"\")\n",
    "print(df.head(3))"
   ]
  },
  {
   "cell_type": "markdown",
   "metadata": {},
   "source": [
    "## Remove unnecessary data"
   ]
  },
  {
   "cell_type": "code",
   "execution_count": 53,
   "metadata": {},
   "outputs": [
    {
     "name": "stdout",
     "output_type": "stream",
     "text": [
      "False    41309\n",
      "Name: can_mod_post, dtype: int64\n",
      "Index(['Unnamed: 0', 'id', 'score', 'created_utc', 'title', 'num_comments',\n",
      "       'author', 'posts_by_user', 'created', 'created_month',\n",
      "       'created_month_label', 'created_short', 'created_weekday',\n",
      "       'created_hour', 'created_week'],\n",
      "      dtype='object')\n"
     ]
    }
   ],
   "source": [
    "print(df[\"can_mod_post\"].value_counts()) \n",
    "\n",
    "#since there are no moderators, we don't need this variable\n",
    "df = df.drop(columns=[\"can_mod_post\"])\n",
    "\n",
    "#check if column has been removed correctly\n",
    "print(df.columns)"
   ]
  },
  {
   "cell_type": "markdown",
   "metadata": {},
   "source": [
    "## Clean data"
   ]
  },
  {
   "cell_type": "markdown",
   "metadata": {},
   "source": [
    "### User group"
   ]
  },
  {
   "cell_type": "code",
   "execution_count": 51,
   "metadata": {},
   "outputs": [
    {
     "data": {
      "text/html": [
       "<div>\n",
       "<style scoped>\n",
       "    .dataframe tbody tr th:only-of-type {\n",
       "        vertical-align: middle;\n",
       "    }\n",
       "\n",
       "    .dataframe tbody tr th {\n",
       "        vertical-align: top;\n",
       "    }\n",
       "\n",
       "    .dataframe thead th {\n",
       "        text-align: right;\n",
       "    }\n",
       "</style>\n",
       "<table border=\"1\" class=\"dataframe\">\n",
       "  <thead>\n",
       "    <tr style=\"text-align: right;\">\n",
       "      <th></th>\n",
       "      <th>Unnamed: 0</th>\n",
       "      <th>id</th>\n",
       "      <th>score</th>\n",
       "      <th>created_utc</th>\n",
       "      <th>title</th>\n",
       "      <th>num_comments</th>\n",
       "      <th>can_mod_post</th>\n",
       "      <th>author</th>\n",
       "      <th>posts_by_user</th>\n",
       "    </tr>\n",
       "  </thead>\n",
       "  <tbody>\n",
       "    <tr>\n",
       "      <th>0</th>\n",
       "      <td>0</td>\n",
       "      <td>eibhvl</td>\n",
       "      <td>1</td>\n",
       "      <td>1577839131</td>\n",
       "      <td>First attempt at a starter, really hope I mana...</td>\n",
       "      <td>5</td>\n",
       "      <td>False</td>\n",
       "      <td>coentertainer</td>\n",
       "      <td>1</td>\n",
       "    </tr>\n",
       "    <tr>\n",
       "      <th>1</th>\n",
       "      <td>1</td>\n",
       "      <td>eibvur</td>\n",
       "      <td>1</td>\n",
       "      <td>1577841129</td>\n",
       "      <td>Skillet &amp;amp; Dutch Oven Sourdough in the rain...</td>\n",
       "      <td>0</td>\n",
       "      <td>False</td>\n",
       "      <td>Richness69</td>\n",
       "      <td>1</td>\n",
       "    </tr>\n",
       "    <tr>\n",
       "      <th>2</th>\n",
       "      <td>2</td>\n",
       "      <td>eiby7m</td>\n",
       "      <td>1</td>\n",
       "      <td>1577841483</td>\n",
       "      <td>My last bread of 2019. I used Brad and Claire’...</td>\n",
       "      <td>0</td>\n",
       "      <td>False</td>\n",
       "      <td>canioli019</td>\n",
       "      <td>2</td>\n",
       "    </tr>\n",
       "    <tr>\n",
       "      <th>3</th>\n",
       "      <td>276</td>\n",
       "      <td>ektkdp</td>\n",
       "      <td>1</td>\n",
       "      <td>1578313987</td>\n",
       "      <td>This bread came out really nice, I just have a...</td>\n",
       "      <td>11</td>\n",
       "      <td>False</td>\n",
       "      <td>canioli019</td>\n",
       "      <td>2</td>\n",
       "    </tr>\n",
       "    <tr>\n",
       "      <th>4</th>\n",
       "      <td>3</td>\n",
       "      <td>eictkk</td>\n",
       "      <td>1</td>\n",
       "      <td>1577846281</td>\n",
       "      <td>I started baking in September and I have never...</td>\n",
       "      <td>0</td>\n",
       "      <td>False</td>\n",
       "      <td>singular-chip</td>\n",
       "      <td>6-10</td>\n",
       "    </tr>\n",
       "  </tbody>\n",
       "</table>\n",
       "</div>"
      ],
      "text/plain": [
       "   Unnamed: 0      id  score  created_utc  \\\n",
       "0           0  eibhvl      1   1577839131   \n",
       "1           1  eibvur      1   1577841129   \n",
       "2           2  eiby7m      1   1577841483   \n",
       "3         276  ektkdp      1   1578313987   \n",
       "4           3  eictkk      1   1577846281   \n",
       "\n",
       "                                               title  num_comments  \\\n",
       "0  First attempt at a starter, really hope I mana...             5   \n",
       "1  Skillet &amp; Dutch Oven Sourdough in the rain...             0   \n",
       "2  My last bread of 2019. I used Brad and Claire’...             0   \n",
       "3  This bread came out really nice, I just have a...            11   \n",
       "4  I started baking in September and I have never...             0   \n",
       "\n",
       "   can_mod_post         author posts_by_user  \n",
       "0         False  coentertainer             1  \n",
       "1         False     Richness69             1  \n",
       "2         False     canioli019             2  \n",
       "3         False     canioli019             2  \n",
       "4         False  singular-chip          6-10  "
      ]
     },
     "execution_count": 51,
     "metadata": {},
     "output_type": "execute_result"
    }
   ],
   "source": [
    "# count number of posts by author and put them into groups\n",
    "bins = [0, 1, 2, 5, 10, 50, np.inf]\n",
    "bin_labels = [\"1\", \"2\", \"3-5\", \"6-10\", \"11-50\",\"Over 50\"]\n",
    "\n",
    "pivot = pd.DataFrame(df.groupby(\"author\")[\"id\"].count())\n",
    "pivot['posts_by_user'] = pd.cut(pivot['id'], bins, labels=bin_labels)\n",
    "pivot = pivot.reset_index().drop(columns=\"id\")\n",
    "\n",
    "# add column to dataframe based on number of posts by author as 'user group'\n",
    "df = pd.merge(df, pivot, left_on=\"author\", right_on=\"author\")\n",
    "\n",
    "#print head\n",
    "df.head()"
   ]
  },
  {
   "cell_type": "markdown",
   "metadata": {},
   "source": [
    "### Derive date and time variables"
   ]
  },
  {
   "cell_type": "code",
   "execution_count": 52,
   "metadata": {},
   "outputs": [
    {
     "name": "stderr",
     "output_type": "stream",
     "text": [
      "<ipython-input-52-a0622d61cd99>:23: FutureWarning: weekofyear and week have been deprecated, please use DatetimeIndex.isocalendar().week instead, which returns a Series.  To exactly reproduce the behavior of week and weekofyear and return an Index, you may call pd.Int64Index(idx.isocalendar().week)\n",
      "  df[\"created_week\"] = pd.DatetimeIndex(df[\"created\"]).week\n"
     ]
    }
   ],
   "source": [
    "from datetime import datetime\n",
    "\n",
    "# derive datetime from unix timestamp\n",
    "df[\"created\"] = pd.to_datetime(df[\"created_utc\"], unit = 's')\n",
    "\n",
    "#derive month from datetime\n",
    "df[\"created_month\"] = pd.DatetimeIndex(df[\"created\"]).month\n",
    "df[\"created_month_label\"] = df[\"created_month\"].map({1: \"January\", 2: \"February\", 3:\"March\", 4:\"April\", 5:\"May\",\n",
    "                                                    6:\"June\", 7:\"July\", 8:\"August\", 9:\"September\", 10:\"October\",\n",
    "                                                    11:\"November\", 12: \"December\"})\n",
    "\n",
    "#derive day from datetime\n",
    "df[\"created_short\"] = df.created.dt.strftime(\"%Y-%m-%d\")\n",
    "\n",
    "#derive weekday from datetime\n",
    "weekday_map = {0: \"Monday\", 1: \"Tuesday\", 2: \"Wednesday\", 3:\"Thursday\", 4: \"Friday\", 5:\"Saturday\", 6:\"Sunday\"}\n",
    "df[\"created_weekday\"] = pd.DatetimeIndex(df[\"created\"]).weekday\n",
    "\n",
    "#derive hour from datetime\n",
    "df[\"created_hour\"] = pd.DatetimeIndex(df[\"created\"]).hour\n",
    "\n",
    "#derive week number from datetime\n",
    "df[\"created_week\"] = pd.DatetimeIndex(df[\"created\"]).week"
   ]
  },
  {
   "cell_type": "markdown",
   "metadata": {},
   "source": [
    "### Title\n",
    "\n",
    "We need to clean the text data in the title so that we can do some proper text mining. This includes\n",
    "\n",
    "- Standardising\n",
    "- Tokenising and removing stop words\n",
    "- Lemmatising\n",
    "\n",
    "\n",
    "\n"
   ]
  },
  {
   "cell_type": "markdown",
   "metadata": {},
   "source": [
    "#### Standardising\n",
    "\n",
    "We will remove punctuation and clean any other symbols/words as needed."
   ]
  },
  {
   "cell_type": "code",
   "execution_count": 59,
   "metadata": {},
   "outputs": [
    {
     "name": "stdout",
     "output_type": "stream",
     "text": [
      "0        first attempt at a starter really hope i manag...\n",
      "1        skillet dutch oven sourdough in the rainy paci...\n",
      "2        my last bread of 2019 i used brad and claire r...\n",
      "3        i started baking in september and i have never...\n",
      "4                                          sourdough books\n",
      "                               ...                        \n",
      "41304                               honey walnut sourdough\n",
      "41305    so happy with how my sourdough finally turned ...\n",
      "41306    sourdough bbq faux chicken pizza no 🐔 were har...\n",
      "41307    got my first starter last week as a christmas ...\n",
      "41308               last 2020 feeding for dame judi stench\n",
      "Name: title, Length: 41309, dtype: object\n"
     ]
    }
   ],
   "source": [
    "# make titles lower case\n",
    "title = df[\"title\"].str.lower()\n",
    "\n",
    "# replace values within titles\n",
    "\n",
    "# function to loop through the column and replace substrings\n",
    "def replace_values(text, dic):\n",
    "    for x, y in dic.items():\n",
    "        text = text.str.replace(x, y, regex=True)\n",
    "    return text\n",
    "\n",
    "# list of values to be replaced, including punctuation\n",
    "replace_dict = {\"&amp;\": \"\", #xml syntax for &\n",
    "                \"[!\\\"#$%&()*+,./:;<=>?@[\\]^_`{|}~“”-]\": \"\",\n",
    "                \"pnw\" : \"pacific northwest\",\n",
    "                \"  \": \" \", #double space\n",
    "                \"’s\" :\"\",  \n",
    "                \"’m\" : \"\",\n",
    "                \"loaves\": \"loaf\"\n",
    "               }\n",
    "                \n",
    "# apply function\n",
    "title = replace_values(title, replace_dict)\n",
    "\n",
    "# strip white space at the end\n",
    "title = title.str.strip()\n",
    "\n",
    "# add new column to dataframe\n",
    "df[\"title_standardised\"] = title\n",
    "\n",
    "print(title)"
   ]
  },
  {
   "cell_type": "markdown",
   "metadata": {},
   "source": [
    "#### Remove stop words\n",
    "\n",
    "We now remove stop words that don't really help to identify the sentiment or topic of a sentence. "
   ]
  },
  {
   "cell_type": "code",
   "execution_count": 60,
   "metadata": {},
   "outputs": [
    {
     "name": "stdout",
     "output_type": "stream",
     "text": [
      "['i', 'me', 'my', 'myself', 'we', 'our', 'ours', 'ourselves', 'you', \"you're\", \"you've\", \"you'll\", \"you'd\", 'your', 'yours', 'yourself', 'yourselves', 'he', 'him', 'his', 'himself', 'she', \"she's\", 'her', 'hers', 'herself', 'it', \"it's\", 'its', 'itself', 'they', 'them', 'their', 'theirs', 'themselves', 'what', 'which', 'who', 'whom', 'this', 'that', \"that'll\", 'these', 'those', 'am', 'is', 'are', 'was', 'were', 'be', 'been', 'being', 'have', 'has', 'had', 'having', 'do', 'does', 'did', 'doing', 'a', 'an', 'the', 'and', 'but', 'if', 'or', 'because', 'as', 'until', 'while', 'of', 'at', 'by', 'for', 'with', 'about', 'against', 'between', 'into', 'through', 'during', 'before', 'after', 'above', 'below', 'to', 'from', 'up', 'down', 'in', 'out', 'on', 'off', 'over', 'under', 'again', 'further', 'then', 'once', 'here', 'there', 'when', 'where', 'why', 'how', 'all', 'any', 'both', 'each', 'few', 'more', 'most', 'other', 'some', 'such', 'no', 'nor', 'not', 'only', 'own', 'same', 'so', 'than', 'too', 'very', 's', 't', 'can', 'will', 'just', 'don', \"don't\", 'should', \"should've\", 'now', 'd', 'll', 'm', 'o', 're', 've', 'y', 'ain', 'aren', \"aren't\", 'couldn', \"couldn't\", 'didn', \"didn't\", 'doesn', \"doesn't\", 'hadn', \"hadn't\", 'hasn', \"hasn't\", 'haven', \"haven't\", 'isn', \"isn't\", 'ma', 'mightn', \"mightn't\", 'mustn', \"mustn't\", 'needn', \"needn't\", 'shan', \"shan't\", 'shouldn', \"shouldn't\", 'wasn', \"wasn't\", 'weren', \"weren't\", 'won', \"won't\", 'wouldn', \"wouldn't\"]\n"
     ]
    }
   ],
   "source": [
    "from nltk.corpus import stopwords\n",
    "\n",
    "stop_words = stopwords.words('english')\n",
    "print(stop_words)"
   ]
  },
  {
   "cell_type": "code",
   "execution_count": 61,
   "metadata": {},
   "outputs": [
    {
     "name": "stdout",
     "output_type": "stream",
     "text": [
      "['first attempt starter really hope manage keep alive mixed existence opening second decade', 'skillet dutch oven sourdough rainy pacific northwest', 'last bread 2019 used brad claire recipe alive sourdough starter smelled bit sweet weird bread turned good anyways', 'started baking september never happier decision may new year bring happy starters crackly crusts', 'sourdough books', 'analyzing sourdough', 'ginger tumeric loaf guide decade', 'behold bread majors incite rocky horror sourdough', 'last loaf year', 'wheat flour starter vs rye starter']\n"
     ]
    }
   ],
   "source": [
    "# create empty list to store titles without stop words\n",
    "title_no_stop_words = []\n",
    "\n",
    "# iterate through each word in each title and append those that are no stop words\n",
    "# split titles into substrings using space as delimiter\n",
    "for words in title.str.split(\" \"):\n",
    "    x = []\n",
    "    for word in words:\n",
    "        if word not in stop_words:\n",
    "            x.append(word)\n",
    "    title_no_stop_words.append(x)\n",
    "\n",
    "# join titles back together\n",
    "title_no_stop_words = [\" \".join(items) for items in title_no_stop_words]\n",
    "\n",
    "# add title to dataframe\n",
    "df[\"title_no_stop_words\"] = title_no_stop_words\n",
    "\n",
    "print(title_no_stop_words[:10])"
   ]
  },
  {
   "cell_type": "markdown",
   "metadata": {},
   "source": [
    "#### Lemmatize\n",
    "Now we want to reduce the inflectional forms of each word into a common base or root. We do this by using a lemmatiser that detects the lemma for each word. \n",
    "\n",
    "Read [this article](https://blog.bitext.com/what-is-the-difference-between-stemming-and-lemmatization/) for more information on the difference betweent stemmatising and lemmatising. "
   ]
  },
  {
   "cell_type": "code",
   "execution_count": 63,
   "metadata": {},
   "outputs": [],
   "source": [
    "import en_core_web_sm\n",
    "\n",
    "# load model from SpaCy\n",
    "nlp = en_core_web_sm.load()\n",
    "\n",
    "# create new list to store lemmatised titles\n",
    "title_lemmatised = []\n",
    "\n",
    "# iterate through each word in each title and append the lemmatised version of the word\n",
    "for words in pd.Series(title_no_stop_words):\n",
    "    x = []\n",
    "    for word in nlp(words):\n",
    "        x.append(word.lemma_)\n",
    "    title_lemmatised.append(x)\n",
    "\n",
    "# join titles back together\n",
    "title_lemmatised = [\" \".join(items) for items in title_lemmatised]\n",
    "\n",
    "df[\"title_lemmatised\"] = title_lemmatised"
   ]
  },
  {
   "cell_type": "markdown",
   "metadata": {},
   "source": [
    "### Remove duplicates"
   ]
  },
  {
   "cell_type": "code",
   "execution_count": 69,
   "metadata": {},
   "outputs": [
    {
     "name": "stdout",
     "output_type": "stream",
     "text": [
      "Number of duplicate rows:  78\n",
      "New number of rows:  40515\n"
     ]
    }
   ],
   "source": [
    "# detect duplicates based on author and title standardised\n",
    "print(\"Number of duplicate rows: \",len(df[df[[\"author\", \"title_standardised\"]].duplicated(keep=\"last\")]))\n",
    "\n",
    "#remove duplicates and reset index\n",
    "df = df.drop_duplicates(subset=[\"author\", \"title_standardised\"],keep=\"last\").reset_index(drop=True) #data ordered by date, last = latest\n",
    "print(\"New number of rows: \", len(df))"
   ]
  },
  {
   "cell_type": "markdown",
   "metadata": {},
   "source": [
    "### Export cleaned dataframe"
   ]
  },
  {
   "cell_type": "code",
   "execution_count": 72,
   "metadata": {},
   "outputs": [],
   "source": [
    "#load scraped datafiles\n",
    "df.to_csv(\".\\\\data\\processed\\df-for-analysis_2021-01-24.csv\")"
   ]
  },
  {
   "cell_type": "markdown",
   "metadata": {},
   "source": [
    "# Analysis"
   ]
  },
  {
   "cell_type": "markdown",
   "metadata": {},
   "source": [
    "## Engagement over time"
   ]
  },
  {
   "cell_type": "code",
   "execution_count": 7,
   "metadata": {},
   "outputs": [
    {
     "data": {
      "text/html": [
       "<div>\n",
       "<style scoped>\n",
       "    .dataframe tbody tr th:only-of-type {\n",
       "        vertical-align: middle;\n",
       "    }\n",
       "\n",
       "    .dataframe tbody tr th {\n",
       "        vertical-align: top;\n",
       "    }\n",
       "\n",
       "    .dataframe thead th {\n",
       "        text-align: right;\n",
       "    }\n",
       "</style>\n",
       "<table border=\"1\" class=\"dataframe\">\n",
       "  <thead>\n",
       "    <tr style=\"text-align: right;\">\n",
       "      <th></th>\n",
       "      <th>id</th>\n",
       "      <th>num_comments</th>\n",
       "      <th>author</th>\n",
       "    </tr>\n",
       "    <tr>\n",
       "      <th>created_month</th>\n",
       "      <th></th>\n",
       "      <th></th>\n",
       "      <th></th>\n",
       "    </tr>\n",
       "  </thead>\n",
       "  <tbody>\n",
       "    <tr>\n",
       "      <th>1</th>\n",
       "      <td>1584</td>\n",
       "      <td>9289</td>\n",
       "      <td>1025</td>\n",
       "    </tr>\n",
       "    <tr>\n",
       "      <th>2</th>\n",
       "      <td>1629</td>\n",
       "      <td>8081</td>\n",
       "      <td>1025</td>\n",
       "    </tr>\n",
       "    <tr>\n",
       "      <th>3</th>\n",
       "      <td>3315</td>\n",
       "      <td>14550</td>\n",
       "      <td>2155</td>\n",
       "    </tr>\n",
       "    <tr>\n",
       "      <th>4</th>\n",
       "      <td>7569</td>\n",
       "      <td>31204</td>\n",
       "      <td>4740</td>\n",
       "    </tr>\n",
       "    <tr>\n",
       "      <th>5</th>\n",
       "      <td>7121</td>\n",
       "      <td>31009</td>\n",
       "      <td>4293</td>\n",
       "    </tr>\n",
       "    <tr>\n",
       "      <th>6</th>\n",
       "      <td>4575</td>\n",
       "      <td>22517</td>\n",
       "      <td>2781</td>\n",
       "    </tr>\n",
       "    <tr>\n",
       "      <th>7</th>\n",
       "      <td>3633</td>\n",
       "      <td>20111</td>\n",
       "      <td>2285</td>\n",
       "    </tr>\n",
       "    <tr>\n",
       "      <th>8</th>\n",
       "      <td>2915</td>\n",
       "      <td>13030</td>\n",
       "      <td>1848</td>\n",
       "    </tr>\n",
       "    <tr>\n",
       "      <th>9</th>\n",
       "      <td>2120</td>\n",
       "      <td>10083</td>\n",
       "      <td>1440</td>\n",
       "    </tr>\n",
       "    <tr>\n",
       "      <th>10</th>\n",
       "      <td>2205</td>\n",
       "      <td>11117</td>\n",
       "      <td>1474</td>\n",
       "    </tr>\n",
       "    <tr>\n",
       "      <th>11</th>\n",
       "      <td>2191</td>\n",
       "      <td>11967</td>\n",
       "      <td>1457</td>\n",
       "    </tr>\n",
       "    <tr>\n",
       "      <th>12</th>\n",
       "      <td>2452</td>\n",
       "      <td>12084</td>\n",
       "      <td>1564</td>\n",
       "    </tr>\n",
       "    <tr>\n",
       "      <th>Total</th>\n",
       "      <td>41309</td>\n",
       "      <td>195042</td>\n",
       "      <td>16865</td>\n",
       "    </tr>\n",
       "  </tbody>\n",
       "</table>\n",
       "</div>"
      ],
      "text/plain": [
       "                  id  num_comments  author\n",
       "created_month                             \n",
       "1               1584          9289    1025\n",
       "2               1629          8081    1025\n",
       "3               3315         14550    2155\n",
       "4               7569         31204    4740\n",
       "5               7121         31009    4293\n",
       "6               4575         22517    2781\n",
       "7               3633         20111    2285\n",
       "8               2915         13030    1848\n",
       "9               2120         10083    1440\n",
       "10              2205         11117    1474\n",
       "11              2191         11967    1457\n",
       "12              2452         12084    1564\n",
       "Total          41309        195042   16865"
      ]
     },
     "execution_count": 7,
     "metadata": {},
     "output_type": "execute_result"
    }
   ],
   "source": [
    "## Submissions and comments by month\n",
    "pivot = df.groupby(\"created_month\")[[\"id\", \"num_comments\", \"author\"]].agg({\"id\": \"count\",\n",
    "                                                                             \"num_comments\":\"sum\",\n",
    "                                                                            \"author\": \"nunique\"})\n",
    "pivot.loc['Total'] = [df[\"id\"].count(), df[\"num_comments\"].sum(), df[\"author\"].nunique()] #add total row\n",
    "pivot"
   ]
  },
  {
   "cell_type": "code",
   "execution_count": 47,
   "metadata": {},
   "outputs": [
    {
     "data": {
      "text/plain": [
       "<AxesSubplot:xlabel='created_month'>"
      ]
     },
     "execution_count": 47,
     "metadata": {},
     "output_type": "execute_result"
    },
    {
     "data": {
      "image/png": "[encoded data removed]",
      "text/plain": [
       "<Figure size 432x288 with 1 Axes>"
      ]
     },
     "metadata": {
      "needs_background": "light"
     },
     "output_type": "display_data"
    }
   ],
   "source": [
    "df.groupby(\"created_month\")[\"id\"].count().plot(kind='line')"
   ]
  },
  {
   "cell_type": "code",
   "execution_count": 48,
   "metadata": {},
   "outputs": [
    {
     "data": {
      "text/plain": [
       "<AxesSubplot:xlabel='created_month'>"
      ]
     },
     "execution_count": 48,
     "metadata": {},
     "output_type": "execute_result"
    },
    {
     "data": {
      "image/png": "[encoded data removed]",
      "text/plain": [
       "<Figure size 432x288 with 1 Axes>"
      ]
     },
     "metadata": {
      "needs_background": "light"
     },
     "output_type": "display_data"
    }
   ],
   "source": [
    "df.groupby(\"created_month\")[\"num_comments\"].sum().plot(kind='line')"
   ]
  },
  {
   "cell_type": "markdown",
   "metadata": {},
   "source": [
    "### Summary by week"
   ]
  },
  {
   "cell_type": "code",
   "execution_count": 14,
   "metadata": {},
   "outputs": [
    {
     "data": {
      "text/html": [
       "<div>\n",
       "<style scoped>\n",
       "    .dataframe tbody tr th:only-of-type {\n",
       "        vertical-align: middle;\n",
       "    }\n",
       "\n",
       "    .dataframe tbody tr th {\n",
       "        vertical-align: top;\n",
       "    }\n",
       "\n",
       "    .dataframe thead th {\n",
       "        text-align: right;\n",
       "    }\n",
       "</style>\n",
       "<table border=\"1\" class=\"dataframe\">\n",
       "  <thead>\n",
       "    <tr style=\"text-align: right;\">\n",
       "      <th></th>\n",
       "      <th>id</th>\n",
       "      <th>num_comments</th>\n",
       "      <th>author</th>\n",
       "    </tr>\n",
       "    <tr>\n",
       "      <th>created_week</th>\n",
       "      <th></th>\n",
       "      <th></th>\n",
       "      <th></th>\n",
       "    </tr>\n",
       "  </thead>\n",
       "  <tbody>\n",
       "    <tr>\n",
       "      <th>1</th>\n",
       "      <td>244</td>\n",
       "      <td>1885</td>\n",
       "      <td>207</td>\n",
       "    </tr>\n",
       "    <tr>\n",
       "      <th>2</th>\n",
       "      <td>389</td>\n",
       "      <td>2031</td>\n",
       "      <td>314</td>\n",
       "    </tr>\n",
       "    <tr>\n",
       "      <th>3</th>\n",
       "      <td>328</td>\n",
       "      <td>1860</td>\n",
       "      <td>269</td>\n",
       "    </tr>\n",
       "    <tr>\n",
       "      <th>4</th>\n",
       "      <td>393</td>\n",
       "      <td>2090</td>\n",
       "      <td>328</td>\n",
       "    </tr>\n",
       "    <tr>\n",
       "      <th>5</th>\n",
       "      <td>377</td>\n",
       "      <td>2004</td>\n",
       "      <td>322</td>\n",
       "    </tr>\n",
       "    <tr>\n",
       "      <th>6</th>\n",
       "      <td>382</td>\n",
       "      <td>2043</td>\n",
       "      <td>305</td>\n",
       "    </tr>\n",
       "    <tr>\n",
       "      <th>7</th>\n",
       "      <td>361</td>\n",
       "      <td>1842</td>\n",
       "      <td>278</td>\n",
       "    </tr>\n",
       "    <tr>\n",
       "      <th>8</th>\n",
       "      <td>414</td>\n",
       "      <td>1664</td>\n",
       "      <td>333</td>\n",
       "    </tr>\n",
       "    <tr>\n",
       "      <th>9</th>\n",
       "      <td>446</td>\n",
       "      <td>2318</td>\n",
       "      <td>354</td>\n",
       "    </tr>\n",
       "    <tr>\n",
       "      <th>10</th>\n",
       "      <td>439</td>\n",
       "      <td>2020</td>\n",
       "      <td>354</td>\n",
       "    </tr>\n",
       "    <tr>\n",
       "      <th>11</th>\n",
       "      <td>430</td>\n",
       "      <td>2240</td>\n",
       "      <td>354</td>\n",
       "    </tr>\n",
       "    <tr>\n",
       "      <th>12</th>\n",
       "      <td>796</td>\n",
       "      <td>3577</td>\n",
       "      <td>649</td>\n",
       "    </tr>\n",
       "    <tr>\n",
       "      <th>13</th>\n",
       "      <td>1153</td>\n",
       "      <td>5037</td>\n",
       "      <td>911</td>\n",
       "    </tr>\n",
       "    <tr>\n",
       "      <th>14</th>\n",
       "      <td>1403</td>\n",
       "      <td>5538</td>\n",
       "      <td>1135</td>\n",
       "    </tr>\n",
       "    <tr>\n",
       "      <th>15</th>\n",
       "      <td>1669</td>\n",
       "      <td>6710</td>\n",
       "      <td>1340</td>\n",
       "    </tr>\n",
       "    <tr>\n",
       "      <th>16</th>\n",
       "      <td>1937</td>\n",
       "      <td>8546</td>\n",
       "      <td>1497</td>\n",
       "    </tr>\n",
       "    <tr>\n",
       "      <th>17</th>\n",
       "      <td>1907</td>\n",
       "      <td>7762</td>\n",
       "      <td>1521</td>\n",
       "    </tr>\n",
       "    <tr>\n",
       "      <th>18</th>\n",
       "      <td>1937</td>\n",
       "      <td>7511</td>\n",
       "      <td>1501</td>\n",
       "    </tr>\n",
       "    <tr>\n",
       "      <th>19</th>\n",
       "      <td>1698</td>\n",
       "      <td>7698</td>\n",
       "      <td>1342</td>\n",
       "    </tr>\n",
       "    <tr>\n",
       "      <th>20</th>\n",
       "      <td>1634</td>\n",
       "      <td>7334</td>\n",
       "      <td>1256</td>\n",
       "    </tr>\n",
       "    <tr>\n",
       "      <th>21</th>\n",
       "      <td>1466</td>\n",
       "      <td>6800</td>\n",
       "      <td>1154</td>\n",
       "    </tr>\n",
       "    <tr>\n",
       "      <th>22</th>\n",
       "      <td>1415</td>\n",
       "      <td>5623</td>\n",
       "      <td>1095</td>\n",
       "    </tr>\n",
       "    <tr>\n",
       "      <th>23</th>\n",
       "      <td>1137</td>\n",
       "      <td>5582</td>\n",
       "      <td>896</td>\n",
       "    </tr>\n",
       "    <tr>\n",
       "      <th>24</th>\n",
       "      <td>1114</td>\n",
       "      <td>5459</td>\n",
       "      <td>847</td>\n",
       "    </tr>\n",
       "    <tr>\n",
       "      <th>25</th>\n",
       "      <td>1097</td>\n",
       "      <td>5250</td>\n",
       "      <td>854</td>\n",
       "    </tr>\n",
       "    <tr>\n",
       "      <th>26</th>\n",
       "      <td>984</td>\n",
       "      <td>5133</td>\n",
       "      <td>779</td>\n",
       "    </tr>\n",
       "    <tr>\n",
       "      <th>27</th>\n",
       "      <td>944</td>\n",
       "      <td>4402</td>\n",
       "      <td>760</td>\n",
       "    </tr>\n",
       "    <tr>\n",
       "      <th>28</th>\n",
       "      <td>837</td>\n",
       "      <td>3639</td>\n",
       "      <td>659</td>\n",
       "    </tr>\n",
       "    <tr>\n",
       "      <th>29</th>\n",
       "      <td>828</td>\n",
       "      <td>5131</td>\n",
       "      <td>658</td>\n",
       "    </tr>\n",
       "    <tr>\n",
       "      <th>30</th>\n",
       "      <td>805</td>\n",
       "      <td>5591</td>\n",
       "      <td>649</td>\n",
       "    </tr>\n",
       "    <tr>\n",
       "      <th>31</th>\n",
       "      <td>676</td>\n",
       "      <td>3425</td>\n",
       "      <td>558</td>\n",
       "    </tr>\n",
       "    <tr>\n",
       "      <th>32</th>\n",
       "      <td>679</td>\n",
       "      <td>2903</td>\n",
       "      <td>551</td>\n",
       "    </tr>\n",
       "    <tr>\n",
       "      <th>33</th>\n",
       "      <td>660</td>\n",
       "      <td>3159</td>\n",
       "      <td>529</td>\n",
       "    </tr>\n",
       "    <tr>\n",
       "      <th>34</th>\n",
       "      <td>652</td>\n",
       "      <td>2951</td>\n",
       "      <td>519</td>\n",
       "    </tr>\n",
       "    <tr>\n",
       "      <th>35</th>\n",
       "      <td>624</td>\n",
       "      <td>2714</td>\n",
       "      <td>504</td>\n",
       "    </tr>\n",
       "    <tr>\n",
       "      <th>36</th>\n",
       "      <td>531</td>\n",
       "      <td>2471</td>\n",
       "      <td>445</td>\n",
       "    </tr>\n",
       "    <tr>\n",
       "      <th>37</th>\n",
       "      <td>529</td>\n",
       "      <td>2867</td>\n",
       "      <td>438</td>\n",
       "    </tr>\n",
       "    <tr>\n",
       "      <th>38</th>\n",
       "      <td>516</td>\n",
       "      <td>2274</td>\n",
       "      <td>424</td>\n",
       "    </tr>\n",
       "    <tr>\n",
       "      <th>39</th>\n",
       "      <td>422</td>\n",
       "      <td>1653</td>\n",
       "      <td>359</td>\n",
       "    </tr>\n",
       "    <tr>\n",
       "      <th>40</th>\n",
       "      <td>485</td>\n",
       "      <td>2447</td>\n",
       "      <td>396</td>\n",
       "    </tr>\n",
       "    <tr>\n",
       "      <th>41</th>\n",
       "      <td>550</td>\n",
       "      <td>2743</td>\n",
       "      <td>442</td>\n",
       "    </tr>\n",
       "    <tr>\n",
       "      <th>42</th>\n",
       "      <td>533</td>\n",
       "      <td>2622</td>\n",
       "      <td>444</td>\n",
       "    </tr>\n",
       "    <tr>\n",
       "      <th>43</th>\n",
       "      <td>438</td>\n",
       "      <td>2334</td>\n",
       "      <td>376</td>\n",
       "    </tr>\n",
       "    <tr>\n",
       "      <th>44</th>\n",
       "      <td>482</td>\n",
       "      <td>2430</td>\n",
       "      <td>410</td>\n",
       "    </tr>\n",
       "    <tr>\n",
       "      <th>45</th>\n",
       "      <td>402</td>\n",
       "      <td>1562</td>\n",
       "      <td>345</td>\n",
       "    </tr>\n",
       "    <tr>\n",
       "      <th>46</th>\n",
       "      <td>531</td>\n",
       "      <td>3203</td>\n",
       "      <td>434</td>\n",
       "    </tr>\n",
       "    <tr>\n",
       "      <th>47</th>\n",
       "      <td>532</td>\n",
       "      <td>3814</td>\n",
       "      <td>451</td>\n",
       "    </tr>\n",
       "    <tr>\n",
       "      <th>48</th>\n",
       "      <td>579</td>\n",
       "      <td>2792</td>\n",
       "      <td>468</td>\n",
       "    </tr>\n",
       "    <tr>\n",
       "      <th>49</th>\n",
       "      <td>484</td>\n",
       "      <td>2260</td>\n",
       "      <td>388</td>\n",
       "    </tr>\n",
       "    <tr>\n",
       "      <th>50</th>\n",
       "      <td>600</td>\n",
       "      <td>2848</td>\n",
       "      <td>467</td>\n",
       "    </tr>\n",
       "    <tr>\n",
       "      <th>51</th>\n",
       "      <td>530</td>\n",
       "      <td>2931</td>\n",
       "      <td>440</td>\n",
       "    </tr>\n",
       "    <tr>\n",
       "      <th>52</th>\n",
       "      <td>572</td>\n",
       "      <td>2349</td>\n",
       "      <td>472</td>\n",
       "    </tr>\n",
       "    <tr>\n",
       "      <th>53</th>\n",
       "      <td>338</td>\n",
       "      <td>1970</td>\n",
       "      <td>289</td>\n",
       "    </tr>\n",
       "    <tr>\n",
       "      <th>Total</th>\n",
       "      <td>41309</td>\n",
       "      <td>195042</td>\n",
       "      <td>16865</td>\n",
       "    </tr>\n",
       "  </tbody>\n",
       "</table>\n",
       "</div>"
      ],
      "text/plain": [
       "                 id  num_comments  author\n",
       "created_week                             \n",
       "1               244          1885     207\n",
       "2               389          2031     314\n",
       "3               328          1860     269\n",
       "4               393          2090     328\n",
       "5               377          2004     322\n",
       "6               382          2043     305\n",
       "7               361          1842     278\n",
       "8               414          1664     333\n",
       "9               446          2318     354\n",
       "10              439          2020     354\n",
       "11              430          2240     354\n",
       "12              796          3577     649\n",
       "13             1153          5037     911\n",
       "14             1403          5538    1135\n",
       "15             1669          6710    1340\n",
       "16             1937          8546    1497\n",
       "17             1907          7762    1521\n",
       "18             1937          7511    1501\n",
       "19             1698          7698    1342\n",
       "20             1634          7334    1256\n",
       "21             1466          6800    1154\n",
       "22             1415          5623    1095\n",
       "23             1137          5582     896\n",
       "24             1114          5459     847\n",
       "25             1097          5250     854\n",
       "26              984          5133     779\n",
       "27              944          4402     760\n",
       "28              837          3639     659\n",
       "29              828          5131     658\n",
       "30              805          5591     649\n",
       "31              676          3425     558\n",
       "32              679          2903     551\n",
       "33              660          3159     529\n",
       "34              652          2951     519\n",
       "35              624          2714     504\n",
       "36              531          2471     445\n",
       "37              529          2867     438\n",
       "38              516          2274     424\n",
       "39              422          1653     359\n",
       "40              485          2447     396\n",
       "41              550          2743     442\n",
       "42              533          2622     444\n",
       "43              438          2334     376\n",
       "44              482          2430     410\n",
       "45              402          1562     345\n",
       "46              531          3203     434\n",
       "47              532          3814     451\n",
       "48              579          2792     468\n",
       "49              484          2260     388\n",
       "50              600          2848     467\n",
       "51              530          2931     440\n",
       "52              572          2349     472\n",
       "53              338          1970     289\n",
       "Total         41309        195042   16865"
      ]
     },
     "execution_count": 14,
     "metadata": {},
     "output_type": "execute_result"
    }
   ],
   "source": [
    "## Submissions and comments by week\n",
    "pivot = df.groupby(\"created_week\")[[\"id\", \"num_comments\", \"author\"]].agg({\"id\": \"count\",\n",
    "                                                                             \"num_comments\":\"sum\",\n",
    "                                                                            \"author\": \"nunique\"})\n",
    "pivot.loc['Total'] = [df[\"id\"].count(), df[\"num_comments\"].sum(), df[\"author\"].nunique()] #add total row\n",
    "pivot"
   ]
  },
  {
   "cell_type": "markdown",
   "metadata": {},
   "source": [
    "### Summary by weekday"
   ]
  },
  {
   "cell_type": "code",
   "execution_count": 9,
   "metadata": {},
   "outputs": [
    {
     "data": {
      "text/html": [
       "<div>\n",
       "<style scoped>\n",
       "    .dataframe tbody tr th:only-of-type {\n",
       "        vertical-align: middle;\n",
       "    }\n",
       "\n",
       "    .dataframe tbody tr th {\n",
       "        vertical-align: top;\n",
       "    }\n",
       "\n",
       "    .dataframe thead th {\n",
       "        text-align: right;\n",
       "    }\n",
       "</style>\n",
       "<table border=\"1\" class=\"dataframe\">\n",
       "  <thead>\n",
       "    <tr style=\"text-align: right;\">\n",
       "      <th></th>\n",
       "      <th>id</th>\n",
       "      <th>num_comments</th>\n",
       "      <th>author</th>\n",
       "    </tr>\n",
       "    <tr>\n",
       "      <th>created_weekday</th>\n",
       "      <th></th>\n",
       "      <th></th>\n",
       "      <th></th>\n",
       "    </tr>\n",
       "  </thead>\n",
       "  <tbody>\n",
       "    <tr>\n",
       "      <th>0</th>\n",
       "      <td>6070</td>\n",
       "      <td>26750</td>\n",
       "      <td>4332</td>\n",
       "    </tr>\n",
       "    <tr>\n",
       "      <th>1</th>\n",
       "      <td>5460</td>\n",
       "      <td>29406</td>\n",
       "      <td>4015</td>\n",
       "    </tr>\n",
       "    <tr>\n",
       "      <th>2</th>\n",
       "      <td>5576</td>\n",
       "      <td>29240</td>\n",
       "      <td>4060</td>\n",
       "    </tr>\n",
       "    <tr>\n",
       "      <th>3</th>\n",
       "      <td>5287</td>\n",
       "      <td>26784</td>\n",
       "      <td>3881</td>\n",
       "    </tr>\n",
       "    <tr>\n",
       "      <th>4</th>\n",
       "      <td>5236</td>\n",
       "      <td>26930</td>\n",
       "      <td>3927</td>\n",
       "    </tr>\n",
       "    <tr>\n",
       "      <th>5</th>\n",
       "      <td>6262</td>\n",
       "      <td>26827</td>\n",
       "      <td>4313</td>\n",
       "    </tr>\n",
       "    <tr>\n",
       "      <th>6</th>\n",
       "      <td>7418</td>\n",
       "      <td>29105</td>\n",
       "      <td>4947</td>\n",
       "    </tr>\n",
       "    <tr>\n",
       "      <th>Total</th>\n",
       "      <td>41309</td>\n",
       "      <td>195042</td>\n",
       "      <td>16865</td>\n",
       "    </tr>\n",
       "  </tbody>\n",
       "</table>\n",
       "</div>"
      ],
      "text/plain": [
       "                    id  num_comments  author\n",
       "created_weekday                             \n",
       "0                 6070         26750    4332\n",
       "1                 5460         29406    4015\n",
       "2                 5576         29240    4060\n",
       "3                 5287         26784    3881\n",
       "4                 5236         26930    3927\n",
       "5                 6262         26827    4313\n",
       "6                 7418         29105    4947\n",
       "Total            41309        195042   16865"
      ]
     },
     "execution_count": 9,
     "metadata": {},
     "output_type": "execute_result"
    }
   ],
   "source": [
    "## Submissions and comments by weekday\n",
    "pivot = df.groupby(\"created_weekday\")[[\"id\", \"num_comments\", \"author\"]].agg({\"id\": \"count\",\n",
    "                                                                             \"num_comments\":\"sum\",\n",
    "                                                                            \"author\": \"nunique\"})\n",
    "\n",
    "pivot.loc['Total'] = [df[\"id\"].count(), df[\"num_comments\"].sum(), df[\"author\"].nunique()] #add total row\n",
    "pivot"
   ]
  },
  {
   "cell_type": "markdown",
   "metadata": {},
   "source": [
    "### summary by month"
   ]
  },
  {
   "cell_type": "code",
   "execution_count": 29,
   "metadata": {},
   "outputs": [
    {
     "data": {
      "text/html": [
       "<div>\n",
       "<style scoped>\n",
       "    .dataframe tbody tr th:only-of-type {\n",
       "        vertical-align: middle;\n",
       "    }\n",
       "\n",
       "    .dataframe tbody tr th {\n",
       "        vertical-align: top;\n",
       "    }\n",
       "\n",
       "    .dataframe thead th {\n",
       "        text-align: right;\n",
       "    }\n",
       "</style>\n",
       "<table border=\"1\" class=\"dataframe\">\n",
       "  <thead>\n",
       "    <tr style=\"text-align: right;\">\n",
       "      <th></th>\n",
       "      <th>month</th>\n",
       "      <th>month_label</th>\n",
       "      <th>unique_user</th>\n",
       "      <th>no_of_submissions</th>\n",
       "      <th>total_comments</th>\n",
       "      <th>max_comments</th>\n",
       "      <th>submission_per_user</th>\n",
       "      <th>comments_per_submission</th>\n",
       "    </tr>\n",
       "  </thead>\n",
       "  <tbody>\n",
       "    <tr>\n",
       "      <th>0</th>\n",
       "      <td>1</td>\n",
       "      <td>January</td>\n",
       "      <td>1025</td>\n",
       "      <td>1584</td>\n",
       "      <td>9289</td>\n",
       "      <td>112</td>\n",
       "      <td>1.545366</td>\n",
       "      <td>5.864268</td>\n",
       "    </tr>\n",
       "    <tr>\n",
       "      <th>1</th>\n",
       "      <td>2</td>\n",
       "      <td>February</td>\n",
       "      <td>1025</td>\n",
       "      <td>1629</td>\n",
       "      <td>8081</td>\n",
       "      <td>63</td>\n",
       "      <td>1.589268</td>\n",
       "      <td>4.960712</td>\n",
       "    </tr>\n",
       "    <tr>\n",
       "      <th>2</th>\n",
       "      <td>3</td>\n",
       "      <td>March</td>\n",
       "      <td>2155</td>\n",
       "      <td>3315</td>\n",
       "      <td>14550</td>\n",
       "      <td>143</td>\n",
       "      <td>1.538283</td>\n",
       "      <td>4.389140</td>\n",
       "    </tr>\n",
       "    <tr>\n",
       "      <th>3</th>\n",
       "      <td>4</td>\n",
       "      <td>April</td>\n",
       "      <td>4740</td>\n",
       "      <td>7569</td>\n",
       "      <td>31204</td>\n",
       "      <td>951</td>\n",
       "      <td>1.596835</td>\n",
       "      <td>4.122605</td>\n",
       "    </tr>\n",
       "    <tr>\n",
       "      <th>4</th>\n",
       "      <td>5</td>\n",
       "      <td>May</td>\n",
       "      <td>4293</td>\n",
       "      <td>7121</td>\n",
       "      <td>31009</td>\n",
       "      <td>955</td>\n",
       "      <td>1.658747</td>\n",
       "      <td>4.354585</td>\n",
       "    </tr>\n",
       "    <tr>\n",
       "      <th>5</th>\n",
       "      <td>6</td>\n",
       "      <td>June</td>\n",
       "      <td>2781</td>\n",
       "      <td>4575</td>\n",
       "      <td>22517</td>\n",
       "      <td>619</td>\n",
       "      <td>1.645092</td>\n",
       "      <td>4.921749</td>\n",
       "    </tr>\n",
       "    <tr>\n",
       "      <th>6</th>\n",
       "      <td>7</td>\n",
       "      <td>July</td>\n",
       "      <td>2285</td>\n",
       "      <td>3633</td>\n",
       "      <td>20111</td>\n",
       "      <td>619</td>\n",
       "      <td>1.589934</td>\n",
       "      <td>5.535645</td>\n",
       "    </tr>\n",
       "    <tr>\n",
       "      <th>7</th>\n",
       "      <td>8</td>\n",
       "      <td>August</td>\n",
       "      <td>1848</td>\n",
       "      <td>2915</td>\n",
       "      <td>13030</td>\n",
       "      <td>216</td>\n",
       "      <td>1.577381</td>\n",
       "      <td>4.469983</td>\n",
       "    </tr>\n",
       "    <tr>\n",
       "      <th>8</th>\n",
       "      <td>9</td>\n",
       "      <td>September</td>\n",
       "      <td>1440</td>\n",
       "      <td>2120</td>\n",
       "      <td>10083</td>\n",
       "      <td>204</td>\n",
       "      <td>1.472222</td>\n",
       "      <td>4.756132</td>\n",
       "    </tr>\n",
       "    <tr>\n",
       "      <th>9</th>\n",
       "      <td>10</td>\n",
       "      <td>October</td>\n",
       "      <td>1474</td>\n",
       "      <td>2205</td>\n",
       "      <td>11117</td>\n",
       "      <td>199</td>\n",
       "      <td>1.495929</td>\n",
       "      <td>5.041723</td>\n",
       "    </tr>\n",
       "    <tr>\n",
       "      <th>10</th>\n",
       "      <td>11</td>\n",
       "      <td>November</td>\n",
       "      <td>1457</td>\n",
       "      <td>2191</td>\n",
       "      <td>11967</td>\n",
       "      <td>380</td>\n",
       "      <td>1.503775</td>\n",
       "      <td>5.461890</td>\n",
       "    </tr>\n",
       "    <tr>\n",
       "      <th>11</th>\n",
       "      <td>12</td>\n",
       "      <td>December</td>\n",
       "      <td>1564</td>\n",
       "      <td>2452</td>\n",
       "      <td>12084</td>\n",
       "      <td>356</td>\n",
       "      <td>1.567775</td>\n",
       "      <td>4.928222</td>\n",
       "    </tr>\n",
       "  </tbody>\n",
       "</table>\n",
       "</div>"
      ],
      "text/plain": [
       "    month month_label  unique_user  no_of_submissions  total_comments  \\\n",
       "0       1     January         1025               1584            9289   \n",
       "1       2    February         1025               1629            8081   \n",
       "2       3       March         2155               3315           14550   \n",
       "3       4       April         4740               7569           31204   \n",
       "4       5         May         4293               7121           31009   \n",
       "5       6        June         2781               4575           22517   \n",
       "6       7        July         2285               3633           20111   \n",
       "7       8      August         1848               2915           13030   \n",
       "8       9   September         1440               2120           10083   \n",
       "9      10     October         1474               2205           11117   \n",
       "10     11    November         1457               2191           11967   \n",
       "11     12    December         1564               2452           12084   \n",
       "\n",
       "    max_comments  submission_per_user  comments_per_submission  \n",
       "0            112             1.545366                 5.864268  \n",
       "1             63             1.589268                 4.960712  \n",
       "2            143             1.538283                 4.389140  \n",
       "3            951             1.596835                 4.122605  \n",
       "4            955             1.658747                 4.354585  \n",
       "5            619             1.645092                 4.921749  \n",
       "6            619             1.589934                 5.535645  \n",
       "7            216             1.577381                 4.469983  \n",
       "8            204             1.472222                 4.756132  \n",
       "9            199             1.495929                 5.041723  \n",
       "10           380             1.503775                 5.461890  \n",
       "11           356             1.567775                 4.928222  "
      ]
     },
     "execution_count": 29,
     "metadata": {},
     "output_type": "execute_result"
    }
   ],
   "source": [
    "df2 = df[[\"created_month\", \"created_month_label\", \"author\", \"num_comments\"]]\n",
    "\n",
    "df2 = df2.groupby('created_month', as_index=True).agg({'created_month_label': 'first',\n",
    "                                                       'author': [\"nunique\", 'count'],\n",
    "                                                       'num_comments': ['sum', 'max'] \n",
    "                                                      })\n",
    "df2.columns = df2.columns.droplevel(level=0)\n",
    "df2 = df2.reset_index().rename(columns={\"created_month\":\"month\", \n",
    "                                        \"nunique\":\"unique_user\", \n",
    "                                        \"count\": \"no_of_submissions\", \n",
    "                                        \"sum\":\"total_comments\",\n",
    "                                       \"max\": \"max_comments\",\n",
    "                                       \"first\": \"month_label\"})\n",
    "\n",
    "# create metrics per user\n",
    "df2[\"submission_per_user\"] = df2[\"no_of_submissions\"] / df2[\"unique_user\"] \n",
    "df2[\"comments_per_submission\"] = df2[\"total_comments\"] / df2[\"no_of_submissions\"] \n",
    "\n",
    "#save output\n",
    "df2.to_csv(\".\\\\data\\charts\\overview_by_month.csv\", index=False)\n",
    "\n",
    "df2"
   ]
  },
  {
   "cell_type": "markdown",
   "metadata": {},
   "source": [
    "## Calendar heatmap\n",
    "\n",
    "Using [calplot](https://calplot.readthedocs.io/en/latest/). "
   ]
  },
  {
   "cell_type": "code",
   "execution_count": 14,
   "metadata": {},
   "outputs": [
    {
     "data": {
      "text/plain": [
       "(<Figure size 900x122.4 with 2 Axes>,\n",
       " array([<AxesSubplot:ylabel='2020'>], dtype=object))"
      ]
     },
     "execution_count": 14,
     "metadata": {},
     "output_type": "execute_result"
    },
    {
     "data": {
      "image/png": "[encoded data removed]",
      "text/plain": [
       "<Figure size 900x122.4 with 2 Axes>"
      ]
     },
     "metadata": {
      "needs_background": "light"
     },
     "output_type": "display_data"
    }
   ],
   "source": [
    "# example code\n",
    "import calplot\n",
    "import numpy as np; np.random.seed(sum(map(ord, 'calplot')))\n",
    "\n",
    "\n",
    "all_days = pd.date_range('1/1/2020', periods=365, freq='D')\n",
    "days = np.random.choice(all_days, 500)\n",
    "events = pd.Series(np.random.randn(len(days)), index=days)\n",
    "calplot.calplot(events)"
   ]
  },
  {
   "cell_type": "markdown",
   "metadata": {},
   "source": [
    "### Comments"
   ]
  },
  {
   "cell_type": "code",
   "execution_count": 45,
   "metadata": {},
   "outputs": [
    {
     "data": {
      "text/plain": [
       "array([<AxesSubplot:ylabel='2020'>], dtype=object)"
      ]
     },
     "execution_count": 45,
     "metadata": {},
     "output_type": "execute_result"
    },
    {
     "data": {
      "image/png": "[encoded data removed]",
      "text/plain": [
       "<Figure size 900x122.4 with 2 Axes>"
      ]
     },
     "metadata": {
      "needs_background": "light"
     },
     "output_type": "display_data"
    }
   ],
   "source": [
    "all_days = pd.date_range('1/1/2020', periods=366, freq='D')\n",
    "events = df.groupby(\"created_short\")[\"num_comments\"].sum()\n",
    "events = pd.Series(events, index=all_days)\n",
    "fig = calplot.calplot(events, cmap='Blues')\n",
    "\n",
    "fig[1]"
   ]
  },
  {
   "cell_type": "code",
   "execution_count": 59,
   "metadata": {},
   "outputs": [
    {
     "data": {
      "text/plain": [
       "<AxesSubplot:xlabel='created_month'>"
      ]
     },
     "execution_count": 59,
     "metadata": {},
     "output_type": "execute_result"
    },
    {
     "data": {
      "image/png": "[encoded data removed]",
      "text/plain": [
       "<Figure size 864x288 with 1 Axes>"
      ]
     },
     "metadata": {
      "needs_background": "light"
     },
     "output_type": "display_data"
    }
   ],
   "source": [
    "df.groupby(\"created_month\")[\"num_comments\"].sum().plot(kind='line', figsize=(12,4))"
   ]
  },
  {
   "cell_type": "markdown",
   "metadata": {},
   "source": [
    "### Posts"
   ]
  },
  {
   "cell_type": "code",
   "execution_count": 58,
   "metadata": {},
   "outputs": [
    {
     "data": {
      "text/plain": [
       "array([<AxesSubplot:ylabel='2020'>], dtype=object)"
      ]
     },
     "execution_count": 58,
     "metadata": {},
     "output_type": "execute_result"
    },
    {
     "data": {
      "image/png": "[encoded data removed]",
      "text/plain": [
       "<Figure size 900x122.4 with 2 Axes>"
      ]
     },
     "metadata": {
      "needs_background": "light"
     },
     "output_type": "display_data"
    }
   ],
   "source": [
    "all_days = pd.date_range('1/1/2020', periods=366, freq='D')\n",
    "events = df.groupby(\"created_short\")[\"id\"].count()\n",
    "events = pd.Series(events, index=all_days)\n",
    "fig = calplot.calplot(events, cmap='Blues')\n",
    "\n",
    "fig[1]"
   ]
  },
  {
   "cell_type": "code",
   "execution_count": 57,
   "metadata": {},
   "outputs": [
    {
     "data": {
      "text/plain": [
       "<AxesSubplot:xlabel='created_month'>"
      ]
     },
     "execution_count": 57,
     "metadata": {},
     "output_type": "execute_result"
    },
    {
     "data": {
      "image/png": "[encoded data removed]",
      "text/plain": [
       "<Figure size 864x288 with 1 Axes>"
      ]
     },
     "metadata": {
      "needs_background": "light"
     },
     "output_type": "display_data"
    }
   ],
   "source": [
    "df.groupby(\"created_month\")[\"id\"].count().plot(kind='line', figsize=(12,4))"
   ]
  },
  {
   "cell_type": "markdown",
   "metadata": {},
   "source": [
    "## Comments"
   ]
  },
  {
   "cell_type": "code",
   "execution_count": 8,
   "metadata": {},
   "outputs": [
    {
     "data": {
      "text/plain": [
       "count    41309.000000\n",
       "mean         4.721538\n",
       "std         16.162486\n",
       "min          0.000000\n",
       "25%          0.000000\n",
       "50%          2.000000\n",
       "75%          5.000000\n",
       "max        955.000000\n",
       "Name: num_comments, dtype: float64"
      ]
     },
     "execution_count": 8,
     "metadata": {},
     "output_type": "execute_result"
    }
   ],
   "source": [
    "df[\"num_comments\"].describe()"
   ]
  },
  {
   "cell_type": "code",
   "execution_count": 31,
   "metadata": {},
   "outputs": [
    {
     "data": {
      "text/html": [
       "<div>\n",
       "<style scoped>\n",
       "    .dataframe tbody tr th:only-of-type {\n",
       "        vertical-align: middle;\n",
       "    }\n",
       "\n",
       "    .dataframe tbody tr th {\n",
       "        vertical-align: top;\n",
       "    }\n",
       "\n",
       "    .dataframe thead th {\n",
       "        text-align: right;\n",
       "    }\n",
       "</style>\n",
       "<table border=\"1\" class=\"dataframe\">\n",
       "  <thead>\n",
       "    <tr style=\"text-align: right;\">\n",
       "      <th></th>\n",
       "      <th>title</th>\n",
       "      <th>created_month_label</th>\n",
       "      <th>num_comments</th>\n",
       "    </tr>\n",
       "  </thead>\n",
       "  <tbody>\n",
       "    <tr>\n",
       "      <th>19225</th>\n",
       "      <td>Weekly Open Sourdough Questions and Discussion...</td>\n",
       "      <td>May</td>\n",
       "      <td>955</td>\n",
       "    </tr>\n",
       "    <tr>\n",
       "      <th>11884</th>\n",
       "      <td>Open Sourdough Questions and Discussion Post -...</td>\n",
       "      <td>April</td>\n",
       "      <td>951</td>\n",
       "    </tr>\n",
       "    <tr>\n",
       "      <th>15774</th>\n",
       "      <td>Open Sourdough Questions and Discussion Post -...</td>\n",
       "      <td>May</td>\n",
       "      <td>945</td>\n",
       "    </tr>\n",
       "    <tr>\n",
       "      <th>17514</th>\n",
       "      <td>Weekly Open Sourdough Questions and Discussion...</td>\n",
       "      <td>May</td>\n",
       "      <td>881</td>\n",
       "    </tr>\n",
       "    <tr>\n",
       "      <th>14246</th>\n",
       "      <td>Open Sourdough Questions and Discussion Post -...</td>\n",
       "      <td>May</td>\n",
       "      <td>821</td>\n",
       "    </tr>\n",
       "    <tr>\n",
       "      <th>26255</th>\n",
       "      <td>Weekly Open Sourdough Questions and Discussion...</td>\n",
       "      <td>July</td>\n",
       "      <td>619</td>\n",
       "    </tr>\n",
       "    <tr>\n",
       "      <th>22619</th>\n",
       "      <td>Weekly Open Sourdough Questions and Discussion...</td>\n",
       "      <td>June</td>\n",
       "      <td>619</td>\n",
       "    </tr>\n",
       "    <tr>\n",
       "      <th>9866</th>\n",
       "      <td>General /r/sourdough discussion post - April 1...</td>\n",
       "      <td>April</td>\n",
       "      <td>525</td>\n",
       "    </tr>\n",
       "    <tr>\n",
       "      <th>21302</th>\n",
       "      <td>Weekly Open Sourdough Questions and Discussion...</td>\n",
       "      <td>June</td>\n",
       "      <td>494</td>\n",
       "    </tr>\n",
       "    <tr>\n",
       "      <th>24011</th>\n",
       "      <td>Weekly Open Sourdough Questions and Discussion...</td>\n",
       "      <td>June</td>\n",
       "      <td>474</td>\n",
       "    </tr>\n",
       "    <tr>\n",
       "      <th>6661</th>\n",
       "      <td>General discussion thread to welcome new sourd...</td>\n",
       "      <td>April</td>\n",
       "      <td>413</td>\n",
       "    </tr>\n",
       "    <tr>\n",
       "      <th>8106</th>\n",
       "      <td>General /r/sourdough discussion post - April 8th.</td>\n",
       "      <td>April</td>\n",
       "      <td>398</td>\n",
       "    </tr>\n",
       "    <tr>\n",
       "      <th>27889</th>\n",
       "      <td>Weekly Open Sourdough Questions and Discussion...</td>\n",
       "      <td>July</td>\n",
       "      <td>382</td>\n",
       "    </tr>\n",
       "    <tr>\n",
       "      <th>37241</th>\n",
       "      <td>Weekly Open Sourdough Questions and Discussion...</td>\n",
       "      <td>November</td>\n",
       "      <td>380</td>\n",
       "    </tr>\n",
       "    <tr>\n",
       "      <th>40981</th>\n",
       "      <td>Starter name sharing time I’ll start</td>\n",
       "      <td>December</td>\n",
       "      <td>356</td>\n",
       "    </tr>\n",
       "    <tr>\n",
       "      <th>25195</th>\n",
       "      <td>Weekly Open Sourdough Questions and Discussion...</td>\n",
       "      <td>June</td>\n",
       "      <td>351</td>\n",
       "    </tr>\n",
       "    <tr>\n",
       "      <th>28786</th>\n",
       "      <td>Weekly Open Sourdough Questions and Discussion...</td>\n",
       "      <td>July</td>\n",
       "      <td>319</td>\n",
       "    </tr>\n",
       "    <tr>\n",
       "      <th>19193</th>\n",
       "      <td>Unpopular Opinion: if you like your crumb, it'...</td>\n",
       "      <td>May</td>\n",
       "      <td>265</td>\n",
       "    </tr>\n",
       "    <tr>\n",
       "      <th>29231</th>\n",
       "      <td>I made a sourdough baking app!</td>\n",
       "      <td>July</td>\n",
       "      <td>261</td>\n",
       "    </tr>\n",
       "    <tr>\n",
       "      <th>21899</th>\n",
       "      <td>Just a video of le me shaping a 92% hydration ...</td>\n",
       "      <td>June</td>\n",
       "      <td>233</td>\n",
       "    </tr>\n",
       "    <tr>\n",
       "      <th>28338</th>\n",
       "      <td>I’m enjoying bread making so much that I’ve ap...</td>\n",
       "      <td>July</td>\n",
       "      <td>220</td>\n",
       "    </tr>\n",
       "    <tr>\n",
       "      <th>31738</th>\n",
       "      <td>Weekly Open Sourdough Questions and Discussion...</td>\n",
       "      <td>August</td>\n",
       "      <td>216</td>\n",
       "    </tr>\n",
       "    <tr>\n",
       "      <th>18430</th>\n",
       "      <td>Here’s another video of me shaping sourdough. ...</td>\n",
       "      <td>May</td>\n",
       "      <td>216</td>\n",
       "    </tr>\n",
       "    <tr>\n",
       "      <th>30489</th>\n",
       "      <td>Weekly Open Sourdough Questions and Discussion...</td>\n",
       "      <td>August</td>\n",
       "      <td>212</td>\n",
       "    </tr>\n",
       "    <tr>\n",
       "      <th>32903</th>\n",
       "      <td>Weekly Open Sourdough Questions and Discussion...</td>\n",
       "      <td>September</td>\n",
       "      <td>204</td>\n",
       "    </tr>\n",
       "    <tr>\n",
       "      <th>31115</th>\n",
       "      <td>Weekly Open Sourdough Questions and Discussion...</td>\n",
       "      <td>August</td>\n",
       "      <td>202</td>\n",
       "    </tr>\n",
       "    <tr>\n",
       "      <th>35869</th>\n",
       "      <td>Weekly Open Sourdough Questions and Discussion...</td>\n",
       "      <td>October</td>\n",
       "      <td>199</td>\n",
       "    </tr>\n",
       "    <tr>\n",
       "      <th>29777</th>\n",
       "      <td>Weekly Open Sourdough Questions and Discussion...</td>\n",
       "      <td>August</td>\n",
       "      <td>198</td>\n",
       "    </tr>\n",
       "    <tr>\n",
       "      <th>32373</th>\n",
       "      <td>Weekly Open Sourdough Questions and Discussion...</td>\n",
       "      <td>September</td>\n",
       "      <td>194</td>\n",
       "    </tr>\n",
       "    <tr>\n",
       "      <th>22245</th>\n",
       "      <td>Guinness stouterdough bread. 100% of water sub...</td>\n",
       "      <td>June</td>\n",
       "      <td>193</td>\n",
       "    </tr>\n",
       "  </tbody>\n",
       "</table>\n",
       "</div>"
      ],
      "text/plain": [
       "                                                   title created_month_label  \\\n",
       "19225  Weekly Open Sourdough Questions and Discussion...                 May   \n",
       "11884  Open Sourdough Questions and Discussion Post -...               April   \n",
       "15774  Open Sourdough Questions and Discussion Post -...                 May   \n",
       "17514  Weekly Open Sourdough Questions and Discussion...                 May   \n",
       "14246  Open Sourdough Questions and Discussion Post -...                 May   \n",
       "26255  Weekly Open Sourdough Questions and Discussion...                July   \n",
       "22619  Weekly Open Sourdough Questions and Discussion...                June   \n",
       "9866   General /r/sourdough discussion post - April 1...               April   \n",
       "21302  Weekly Open Sourdough Questions and Discussion...                June   \n",
       "24011  Weekly Open Sourdough Questions and Discussion...                June   \n",
       "6661   General discussion thread to welcome new sourd...               April   \n",
       "8106   General /r/sourdough discussion post - April 8th.               April   \n",
       "27889  Weekly Open Sourdough Questions and Discussion...                July   \n",
       "37241  Weekly Open Sourdough Questions and Discussion...            November   \n",
       "40981               Starter name sharing time I’ll start            December   \n",
       "25195  Weekly Open Sourdough Questions and Discussion...                June   \n",
       "28786  Weekly Open Sourdough Questions and Discussion...                July   \n",
       "19193  Unpopular Opinion: if you like your crumb, it'...                 May   \n",
       "29231                     I made a sourdough baking app!                July   \n",
       "21899  Just a video of le me shaping a 92% hydration ...                June   \n",
       "28338  I’m enjoying bread making so much that I’ve ap...                July   \n",
       "31738  Weekly Open Sourdough Questions and Discussion...              August   \n",
       "18430  Here’s another video of me shaping sourdough. ...                 May   \n",
       "30489  Weekly Open Sourdough Questions and Discussion...              August   \n",
       "32903  Weekly Open Sourdough Questions and Discussion...           September   \n",
       "31115  Weekly Open Sourdough Questions and Discussion...              August   \n",
       "35869  Weekly Open Sourdough Questions and Discussion...             October   \n",
       "29777  Weekly Open Sourdough Questions and Discussion...              August   \n",
       "32373  Weekly Open Sourdough Questions and Discussion...           September   \n",
       "22245  Guinness stouterdough bread. 100% of water sub...                June   \n",
       "\n",
       "       num_comments  \n",
       "19225           955  \n",
       "11884           951  \n",
       "15774           945  \n",
       "17514           881  \n",
       "14246           821  \n",
       "26255           619  \n",
       "22619           619  \n",
       "9866            525  \n",
       "21302           494  \n",
       "24011           474  \n",
       "6661            413  \n",
       "8106            398  \n",
       "27889           382  \n",
       "37241           380  \n",
       "40981           356  \n",
       "25195           351  \n",
       "28786           319  \n",
       "19193           265  \n",
       "29231           261  \n",
       "21899           233  \n",
       "28338           220  \n",
       "31738           216  \n",
       "18430           216  \n",
       "30489           212  \n",
       "32903           204  \n",
       "31115           202  \n",
       "35869           199  \n",
       "29777           198  \n",
       "32373           194  \n",
       "22245           193  "
      ]
     },
     "execution_count": 31,
     "metadata": {},
     "output_type": "execute_result"
    }
   ],
   "source": [
    "#look at posts with highest number of comments\n",
    "comments = df[[\"title\", \"created_month_label\", \"num_comments\"]].sort_values(by=\"num_comments\", ascending=False).head(30)\n",
    "\n",
    "#save output\n",
    "comments.to_csv(\".//data/charts/top30-posts-by-comments.csv\", index=False)\n",
    "\n",
    "#display\n",
    "comments"
   ]
  },
  {
   "cell_type": "markdown",
   "metadata": {},
   "source": [
    "## Number of users"
   ]
  },
  {
   "cell_type": "markdown",
   "metadata": {},
   "source": [
    "### overview"
   ]
  },
  {
   "cell_type": "code",
   "execution_count": 64,
   "metadata": {},
   "outputs": [
    {
     "data": {
      "text/html": [
       "<div>\n",
       "<style scoped>\n",
       "    .dataframe tbody tr th:only-of-type {\n",
       "        vertical-align: middle;\n",
       "    }\n",
       "\n",
       "    .dataframe tbody tr th {\n",
       "        vertical-align: top;\n",
       "    }\n",
       "\n",
       "    .dataframe thead th {\n",
       "        text-align: right;\n",
       "    }\n",
       "</style>\n",
       "<table border=\"1\" class=\"dataframe\">\n",
       "  <thead>\n",
       "    <tr style=\"text-align: right;\">\n",
       "      <th></th>\n",
       "      <th>month</th>\n",
       "      <th>unique_user</th>\n",
       "      <th>no_of_submissions</th>\n",
       "      <th>total_comments</th>\n",
       "      <th>submission_per_user</th>\n",
       "      <th>comments_per_submission</th>\n",
       "    </tr>\n",
       "  </thead>\n",
       "  <tbody>\n",
       "    <tr>\n",
       "      <th>0</th>\n",
       "      <td>1</td>\n",
       "      <td>1025</td>\n",
       "      <td>1584</td>\n",
       "      <td>9289</td>\n",
       "      <td>1.545366</td>\n",
       "      <td>5.864268</td>\n",
       "    </tr>\n",
       "    <tr>\n",
       "      <th>1</th>\n",
       "      <td>2</td>\n",
       "      <td>1025</td>\n",
       "      <td>1629</td>\n",
       "      <td>8081</td>\n",
       "      <td>1.589268</td>\n",
       "      <td>4.960712</td>\n",
       "    </tr>\n",
       "    <tr>\n",
       "      <th>2</th>\n",
       "      <td>3</td>\n",
       "      <td>2155</td>\n",
       "      <td>3315</td>\n",
       "      <td>14550</td>\n",
       "      <td>1.538283</td>\n",
       "      <td>4.389140</td>\n",
       "    </tr>\n",
       "    <tr>\n",
       "      <th>3</th>\n",
       "      <td>4</td>\n",
       "      <td>4740</td>\n",
       "      <td>7569</td>\n",
       "      <td>31204</td>\n",
       "      <td>1.596835</td>\n",
       "      <td>4.122605</td>\n",
       "    </tr>\n",
       "    <tr>\n",
       "      <th>4</th>\n",
       "      <td>5</td>\n",
       "      <td>4293</td>\n",
       "      <td>7121</td>\n",
       "      <td>31009</td>\n",
       "      <td>1.658747</td>\n",
       "      <td>4.354585</td>\n",
       "    </tr>\n",
       "    <tr>\n",
       "      <th>5</th>\n",
       "      <td>6</td>\n",
       "      <td>2781</td>\n",
       "      <td>4575</td>\n",
       "      <td>22517</td>\n",
       "      <td>1.645092</td>\n",
       "      <td>4.921749</td>\n",
       "    </tr>\n",
       "    <tr>\n",
       "      <th>6</th>\n",
       "      <td>7</td>\n",
       "      <td>2285</td>\n",
       "      <td>3633</td>\n",
       "      <td>20111</td>\n",
       "      <td>1.589934</td>\n",
       "      <td>5.535645</td>\n",
       "    </tr>\n",
       "    <tr>\n",
       "      <th>7</th>\n",
       "      <td>8</td>\n",
       "      <td>1848</td>\n",
       "      <td>2915</td>\n",
       "      <td>13030</td>\n",
       "      <td>1.577381</td>\n",
       "      <td>4.469983</td>\n",
       "    </tr>\n",
       "    <tr>\n",
       "      <th>8</th>\n",
       "      <td>9</td>\n",
       "      <td>1440</td>\n",
       "      <td>2120</td>\n",
       "      <td>10083</td>\n",
       "      <td>1.472222</td>\n",
       "      <td>4.756132</td>\n",
       "    </tr>\n",
       "    <tr>\n",
       "      <th>9</th>\n",
       "      <td>10</td>\n",
       "      <td>1474</td>\n",
       "      <td>2205</td>\n",
       "      <td>11117</td>\n",
       "      <td>1.495929</td>\n",
       "      <td>5.041723</td>\n",
       "    </tr>\n",
       "    <tr>\n",
       "      <th>10</th>\n",
       "      <td>11</td>\n",
       "      <td>1457</td>\n",
       "      <td>2191</td>\n",
       "      <td>11967</td>\n",
       "      <td>1.503775</td>\n",
       "      <td>5.461890</td>\n",
       "    </tr>\n",
       "    <tr>\n",
       "      <th>11</th>\n",
       "      <td>12</td>\n",
       "      <td>1564</td>\n",
       "      <td>2452</td>\n",
       "      <td>12084</td>\n",
       "      <td>1.567775</td>\n",
       "      <td>4.928222</td>\n",
       "    </tr>\n",
       "  </tbody>\n",
       "</table>\n",
       "</div>"
      ],
      "text/plain": [
       "    month  unique_user  no_of_submissions  total_comments  \\\n",
       "0       1         1025               1584            9289   \n",
       "1       2         1025               1629            8081   \n",
       "2       3         2155               3315           14550   \n",
       "3       4         4740               7569           31204   \n",
       "4       5         4293               7121           31009   \n",
       "5       6         2781               4575           22517   \n",
       "6       7         2285               3633           20111   \n",
       "7       8         1848               2915           13030   \n",
       "8       9         1440               2120           10083   \n",
       "9      10         1474               2205           11117   \n",
       "10     11         1457               2191           11967   \n",
       "11     12         1564               2452           12084   \n",
       "\n",
       "    submission_per_user  comments_per_submission  \n",
       "0              1.545366                 5.864268  \n",
       "1              1.589268                 4.960712  \n",
       "2              1.538283                 4.389140  \n",
       "3              1.596835                 4.122605  \n",
       "4              1.658747                 4.354585  \n",
       "5              1.645092                 4.921749  \n",
       "6              1.589934                 5.535645  \n",
       "7              1.577381                 4.469983  \n",
       "8              1.472222                 4.756132  \n",
       "9              1.495929                 5.041723  \n",
       "10             1.503775                 5.461890  \n",
       "11             1.567775                 4.928222  "
      ]
     },
     "execution_count": 64,
     "metadata": {},
     "output_type": "execute_result"
    }
   ],
   "source": [
    "df2 = df[[\"created_month\", \"author\", \"num_comments\"]]\n",
    "\n",
    "df2 = df2.groupby('created_month', as_index=True).agg({'author': [pd.Series.nunique, 'count'],\n",
    "                                                                               'num_comments': ['sum']})\n",
    "df2.columns = df2.columns.droplevel(level=0)\n",
    "df2 = df2.reset_index()\n",
    "df2 = df2.rename(columns={\"created_month\":\"month\", \"nunique\":\"unique_user\", \"count\": \"no_of_submissions\", \"sum\":\"total_comments\"})\n",
    "df2[\"submission_per_user\"] = df2[\"no_of_submissions\"] / df2[\"unique_user\"] \n",
    "df2[\"comments_per_submission\"] = df2[\"total_comments\"] / df2[\"no_of_submissions\"] \n",
    "\n",
    "#load scraped datafiles\n",
    "df2.to_csv(\".\\\\data\\charts\\overview_by_month.csv\", index=False)\n",
    "\n",
    "df2"
   ]
  },
  {
   "cell_type": "markdown",
   "metadata": {},
   "source": [
    "### number of submissions by user\n",
    "\n",
    "On average, users submitted only 1 post, this is true for more than half of users. Two thirds have submitted at least 2 posts. On the top range, there is one user with 618 submissions which is now been deleted and "
   ]
  },
  {
   "cell_type": "code",
   "execution_count": 9,
   "metadata": {},
   "outputs": [
    {
     "data": {
      "text/plain": [
       "count    16865.000000\n",
       "mean         2.449392\n",
       "std          5.858573\n",
       "min          1.000000\n",
       "25%          1.000000\n",
       "50%          1.000000\n",
       "75%          2.000000\n",
       "max        618.000000\n",
       "Name: id, dtype: float64"
      ]
     },
     "execution_count": 9,
     "metadata": {},
     "output_type": "execute_result"
    }
   ],
   "source": [
    "pivot = pd.DataFrame(df.groupby(\"author\")[\"id\"].count())\n",
    "pivot[\"id\"].describe()"
   ]
  },
  {
   "cell_type": "code",
   "execution_count": 53,
   "metadata": {},
   "outputs": [
    {
     "data": {
      "text/html": [
       "<div>\n",
       "<style scoped>\n",
       "    .dataframe tbody tr th:only-of-type {\n",
       "        vertical-align: middle;\n",
       "    }\n",
       "\n",
       "    .dataframe tbody tr th {\n",
       "        vertical-align: top;\n",
       "    }\n",
       "\n",
       "    .dataframe thead th {\n",
       "        text-align: right;\n",
       "    }\n",
       "</style>\n",
       "<table border=\"1\" class=\"dataframe\">\n",
       "  <thead>\n",
       "    <tr style=\"text-align: right;\">\n",
       "      <th></th>\n",
       "      <th>index</th>\n",
       "      <th>users_by_posts</th>\n",
       "      <th>user_by_posts_perc</th>\n",
       "    </tr>\n",
       "  </thead>\n",
       "  <tbody>\n",
       "    <tr>\n",
       "      <th>0</th>\n",
       "      <td>1</td>\n",
       "      <td>9483</td>\n",
       "      <td>56.228876</td>\n",
       "    </tr>\n",
       "    <tr>\n",
       "      <th>1</th>\n",
       "      <td>2</td>\n",
       "      <td>3207</td>\n",
       "      <td>19.015713</td>\n",
       "    </tr>\n",
       "    <tr>\n",
       "      <th>2</th>\n",
       "      <td>3-5</td>\n",
       "      <td>2833</td>\n",
       "      <td>16.798103</td>\n",
       "    </tr>\n",
       "    <tr>\n",
       "      <th>3</th>\n",
       "      <td>6-10</td>\n",
       "      <td>938</td>\n",
       "      <td>5.561814</td>\n",
       "    </tr>\n",
       "    <tr>\n",
       "      <th>4</th>\n",
       "      <td>11-50</td>\n",
       "      <td>392</td>\n",
       "      <td>2.324340</td>\n",
       "    </tr>\n",
       "    <tr>\n",
       "      <th>5</th>\n",
       "      <td>Over 50</td>\n",
       "      <td>12</td>\n",
       "      <td>0.071153</td>\n",
       "    </tr>\n",
       "  </tbody>\n",
       "</table>\n",
       "</div>"
      ],
      "text/plain": [
       "     index  users_by_posts  user_by_posts_perc\n",
       "0        1            9483           56.228876\n",
       "1        2            3207           19.015713\n",
       "2      3-5            2833           16.798103\n",
       "3     6-10             938            5.561814\n",
       "4    11-50             392            2.324340\n",
       "5  Over 50              12            0.071153"
      ]
     },
     "execution_count": 53,
     "metadata": {},
     "output_type": "execute_result"
    }
   ],
   "source": [
    "bins = [0, 1, 2, 5, 10 ,50, np.inf]\n",
    "bin_labels = [\"1\", \"2\", \"3-5\", \"6-10\", \"11-50\",\"Over 50\"]\n",
    "\n",
    "pivot = pd.DataFrame(df.groupby(\"author\")[\"id\"].count())\n",
    "pivot['users_by_posts'] = pd.cut(pivot['id'], bins, labels=bin_labels)\n",
    "pivot = pd.DataFrame(pivot[\"users_by_posts\"].value_counts()).reset_index()\n",
    "pivot[\"user_by_posts_perc\"] = pivot[\"users_by_posts\"] / pivot[\"users_by_posts\"].sum() *100\n",
    "\n",
    "# save output\n",
    "pivot.to_csv(\".\\\\data\\charts\\posts_by_user_bins.csv\", index=False)\n",
    "\n",
    "pivot"
   ]
  },
  {
   "cell_type": "code",
   "execution_count": 88,
   "metadata": {},
   "outputs": [
    {
     "data": {
      "text/html": [
       "<div>\n",
       "<style scoped>\n",
       "    .dataframe tbody tr th:only-of-type {\n",
       "        vertical-align: middle;\n",
       "    }\n",
       "\n",
       "    .dataframe tbody tr th {\n",
       "        vertical-align: top;\n",
       "    }\n",
       "\n",
       "    .dataframe thead th {\n",
       "        text-align: right;\n",
       "    }\n",
       "</style>\n",
       "<table border=\"1\" class=\"dataframe\">\n",
       "  <thead>\n",
       "    <tr style=\"text-align: right;\">\n",
       "      <th></th>\n",
       "      <th>id</th>\n",
       "    </tr>\n",
       "    <tr>\n",
       "      <th>author</th>\n",
       "      <th></th>\n",
       "    </tr>\n",
       "  </thead>\n",
       "  <tbody>\n",
       "    <tr>\n",
       "      <th>[deleted]</th>\n",
       "      <td>618</td>\n",
       "    </tr>\n",
       "    <tr>\n",
       "      <th>the_bread_code</th>\n",
       "      <td>79</td>\n",
       "    </tr>\n",
       "    <tr>\n",
       "      <th>Pmcdonald16</th>\n",
       "      <td>72</td>\n",
       "    </tr>\n",
       "    <tr>\n",
       "      <th>ruffneckred</th>\n",
       "      <td>68</td>\n",
       "    </tr>\n",
       "    <tr>\n",
       "      <th>cool-bird</th>\n",
       "      <td>66</td>\n",
       "    </tr>\n",
       "    <tr>\n",
       "      <th>Redrockcod</th>\n",
       "      <td>63</td>\n",
       "    </tr>\n",
       "    <tr>\n",
       "      <th>BeardBeardBabyDunDun</th>\n",
       "      <td>58</td>\n",
       "    </tr>\n",
       "    <tr>\n",
       "      <th>michaelcgk</th>\n",
       "      <td>58</td>\n",
       "    </tr>\n",
       "    <tr>\n",
       "      <th>oilologist</th>\n",
       "      <td>58</td>\n",
       "    </tr>\n",
       "    <tr>\n",
       "      <th>sigh_zip</th>\n",
       "      <td>55</td>\n",
       "    </tr>\n",
       "    <tr>\n",
       "      <th>Breadtales</th>\n",
       "      <td>54</td>\n",
       "    </tr>\n",
       "    <tr>\n",
       "      <th>flrflzy</th>\n",
       "      <td>52</td>\n",
       "    </tr>\n",
       "    <tr>\n",
       "      <th>Chtitite</th>\n",
       "      <td>49</td>\n",
       "    </tr>\n",
       "    <tr>\n",
       "      <th>talouseismygoose</th>\n",
       "      <td>49</td>\n",
       "    </tr>\n",
       "    <tr>\n",
       "      <th>Snoo_98097</th>\n",
       "      <td>48</td>\n",
       "    </tr>\n",
       "  </tbody>\n",
       "</table>\n",
       "</div>"
      ],
      "text/plain": [
       "                       id\n",
       "author                   \n",
       "[deleted]             618\n",
       "the_bread_code         79\n",
       "Pmcdonald16            72\n",
       "ruffneckred            68\n",
       "cool-bird              66\n",
       "Redrockcod             63\n",
       "BeardBeardBabyDunDun   58\n",
       "michaelcgk             58\n",
       "oilologist             58\n",
       "sigh_zip               55\n",
       "Breadtales             54\n",
       "flrflzy                52\n",
       "Chtitite               49\n",
       "talouseismygoose       49\n",
       "Snoo_98097             48"
      ]
     },
     "execution_count": 88,
     "metadata": {},
     "output_type": "execute_result"
    }
   ],
   "source": [
    "pivot = pivot.sort_values(by=\"id\", ascending=False)\n",
    "pivot.head(15)"
   ]
  },
  {
   "cell_type": "markdown",
   "metadata": {},
   "source": [
    "### Engagement for users over time"
   ]
  },
  {
   "cell_type": "code",
   "execution_count": 58,
   "metadata": {},
   "outputs": [
    {
     "data": {
      "text/html": [
       "<div>\n",
       "<style scoped>\n",
       "    .dataframe tbody tr th:only-of-type {\n",
       "        vertical-align: middle;\n",
       "    }\n",
       "\n",
       "    .dataframe tbody tr th {\n",
       "        vertical-align: top;\n",
       "    }\n",
       "\n",
       "    .dataframe thead th {\n",
       "        text-align: right;\n",
       "    }\n",
       "</style>\n",
       "<table border=\"1\" class=\"dataframe\">\n",
       "  <thead>\n",
       "    <tr style=\"text-align: right;\">\n",
       "      <th></th>\n",
       "      <th>Unnamed: 0</th>\n",
       "      <th>id</th>\n",
       "      <th>score</th>\n",
       "      <th>created_utc</th>\n",
       "      <th>title</th>\n",
       "      <th>num_comments</th>\n",
       "      <th>author</th>\n",
       "      <th>posts_by_user</th>\n",
       "      <th>created</th>\n",
       "      <th>created_month</th>\n",
       "      <th>created_month_label</th>\n",
       "      <th>created_short</th>\n",
       "      <th>created_weekday</th>\n",
       "      <th>created_hour</th>\n",
       "      <th>created_week</th>\n",
       "    </tr>\n",
       "  </thead>\n",
       "  <tbody>\n",
       "    <tr>\n",
       "      <th>0</th>\n",
       "      <td>0</td>\n",
       "      <td>eibhvl</td>\n",
       "      <td>1</td>\n",
       "      <td>1577839131</td>\n",
       "      <td>First attempt at a starter, really hope I mana...</td>\n",
       "      <td>5</td>\n",
       "      <td>coentertainer</td>\n",
       "      <td>1</td>\n",
       "      <td>2020-01-01 00:38:51</td>\n",
       "      <td>1</td>\n",
       "      <td>January</td>\n",
       "      <td>2020-01-01</td>\n",
       "      <td>2</td>\n",
       "      <td>0</td>\n",
       "      <td>1</td>\n",
       "    </tr>\n",
       "    <tr>\n",
       "      <th>1</th>\n",
       "      <td>1</td>\n",
       "      <td>eibvur</td>\n",
       "      <td>1</td>\n",
       "      <td>1577841129</td>\n",
       "      <td>Skillet &amp;amp; Dutch Oven Sourdough in the rain...</td>\n",
       "      <td>0</td>\n",
       "      <td>Richness69</td>\n",
       "      <td>1</td>\n",
       "      <td>2020-01-01 01:12:09</td>\n",
       "      <td>1</td>\n",
       "      <td>January</td>\n",
       "      <td>2020-01-01</td>\n",
       "      <td>2</td>\n",
       "      <td>1</td>\n",
       "      <td>1</td>\n",
       "    </tr>\n",
       "    <tr>\n",
       "      <th>12</th>\n",
       "      <td>5</td>\n",
       "      <td>eidtic</td>\n",
       "      <td>1</td>\n",
       "      <td>1577852213</td>\n",
       "      <td>Analyzing sourdough?</td>\n",
       "      <td>1</td>\n",
       "      <td>amisanyal</td>\n",
       "      <td>1</td>\n",
       "      <td>2020-01-01 04:16:53</td>\n",
       "      <td>1</td>\n",
       "      <td>January</td>\n",
       "      <td>2020-01-01</td>\n",
       "      <td>2</td>\n",
       "      <td>4</td>\n",
       "      <td>1</td>\n",
       "    </tr>\n",
       "    <tr>\n",
       "      <th>13</th>\n",
       "      <td>6</td>\n",
       "      <td>eidxpd</td>\n",
       "      <td>1</td>\n",
       "      <td>1577852956</td>\n",
       "      <td>Ginger tumeric loaf to guide me out of the decade</td>\n",
       "      <td>2</td>\n",
       "      <td>bleuxballs</td>\n",
       "      <td>1</td>\n",
       "      <td>2020-01-01 04:29:16</td>\n",
       "      <td>1</td>\n",
       "      <td>January</td>\n",
       "      <td>2020-01-01</td>\n",
       "      <td>2</td>\n",
       "      <td>4</td>\n",
       "      <td>1</td>\n",
       "    </tr>\n",
       "    <tr>\n",
       "      <th>27</th>\n",
       "      <td>10</td>\n",
       "      <td>eih45l</td>\n",
       "      <td>1</td>\n",
       "      <td>1577875456</td>\n",
       "      <td>My sourdough starter smells like vomit</td>\n",
       "      <td>7</td>\n",
       "      <td>nahnahxd</td>\n",
       "      <td>1</td>\n",
       "      <td>2020-01-01 10:44:16</td>\n",
       "      <td>1</td>\n",
       "      <td>January</td>\n",
       "      <td>2020-01-01</td>\n",
       "      <td>2</td>\n",
       "      <td>10</td>\n",
       "      <td>1</td>\n",
       "    </tr>\n",
       "    <tr>\n",
       "      <th>...</th>\n",
       "      <td>...</td>\n",
       "      <td>...</td>\n",
       "      <td>...</td>\n",
       "      <td>...</td>\n",
       "      <td>...</td>\n",
       "      <td>...</td>\n",
       "      <td>...</td>\n",
       "      <td>...</td>\n",
       "      <td>...</td>\n",
       "      <td>...</td>\n",
       "      <td>...</td>\n",
       "      <td>...</td>\n",
       "      <td>...</td>\n",
       "      <td>...</td>\n",
       "      <td>...</td>\n",
       "    </tr>\n",
       "    <tr>\n",
       "      <th>41304</th>\n",
       "      <td>41294</td>\n",
       "      <td>knyfbd</td>\n",
       "      <td>1</td>\n",
       "      <td>1609449968</td>\n",
       "      <td>Such a sense of pride seeing it double. Winter...</td>\n",
       "      <td>4</td>\n",
       "      <td>Shoobadoo39</td>\n",
       "      <td>1</td>\n",
       "      <td>2020-12-31 21:26:08</td>\n",
       "      <td>12</td>\n",
       "      <td>December</td>\n",
       "      <td>2020-12-31</td>\n",
       "      <td>3</td>\n",
       "      <td>21</td>\n",
       "      <td>53</td>\n",
       "    </tr>\n",
       "    <tr>\n",
       "      <th>41305</th>\n",
       "      <td>41300</td>\n",
       "      <td>knziro</td>\n",
       "      <td>1</td>\n",
       "      <td>1609453786</td>\n",
       "      <td>Starter in LA?</td>\n",
       "      <td>5</td>\n",
       "      <td>madshills</td>\n",
       "      <td>1</td>\n",
       "      <td>2020-12-31 22:29:46</td>\n",
       "      <td>12</td>\n",
       "      <td>December</td>\n",
       "      <td>2020-12-31</td>\n",
       "      <td>3</td>\n",
       "      <td>22</td>\n",
       "      <td>53</td>\n",
       "    </tr>\n",
       "    <tr>\n",
       "      <th>41306</th>\n",
       "      <td>41304</td>\n",
       "      <td>ko0212</td>\n",
       "      <td>1</td>\n",
       "      <td>1609455696</td>\n",
       "      <td>Honey walnut sourdough!</td>\n",
       "      <td>0</td>\n",
       "      <td>LifeAsWeKnewIt</td>\n",
       "      <td>1</td>\n",
       "      <td>2020-12-31 23:01:36</td>\n",
       "      <td>12</td>\n",
       "      <td>December</td>\n",
       "      <td>2020-12-31</td>\n",
       "      <td>3</td>\n",
       "      <td>23</td>\n",
       "      <td>53</td>\n",
       "    </tr>\n",
       "    <tr>\n",
       "      <th>41307</th>\n",
       "      <td>41307</td>\n",
       "      <td>ko0m15</td>\n",
       "      <td>1</td>\n",
       "      <td>1609457690</td>\n",
       "      <td>Got my first starter last week as a Christmas ...</td>\n",
       "      <td>2</td>\n",
       "      <td>g28_x0y0z0</td>\n",
       "      <td>1</td>\n",
       "      <td>2020-12-31 23:34:50</td>\n",
       "      <td>12</td>\n",
       "      <td>December</td>\n",
       "      <td>2020-12-31</td>\n",
       "      <td>3</td>\n",
       "      <td>23</td>\n",
       "      <td>53</td>\n",
       "    </tr>\n",
       "    <tr>\n",
       "      <th>41308</th>\n",
       "      <td>41308</td>\n",
       "      <td>ko0urv</td>\n",
       "      <td>1</td>\n",
       "      <td>1609458584</td>\n",
       "      <td>Last 2020 feeding for Dame Judi Stench!</td>\n",
       "      <td>0</td>\n",
       "      <td>le72225</td>\n",
       "      <td>1</td>\n",
       "      <td>2020-12-31 23:49:44</td>\n",
       "      <td>12</td>\n",
       "      <td>December</td>\n",
       "      <td>2020-12-31</td>\n",
       "      <td>3</td>\n",
       "      <td>23</td>\n",
       "      <td>53</td>\n",
       "    </tr>\n",
       "  </tbody>\n",
       "</table>\n",
       "<p>9483 rows × 15 columns</p>\n",
       "</div>"
      ],
      "text/plain": [
       "       Unnamed: 0      id  score  created_utc  \\\n",
       "0               0  eibhvl      1   1577839131   \n",
       "1               1  eibvur      1   1577841129   \n",
       "12              5  eidtic      1   1577852213   \n",
       "13              6  eidxpd      1   1577852956   \n",
       "27             10  eih45l      1   1577875456   \n",
       "...           ...     ...    ...          ...   \n",
       "41304       41294  knyfbd      1   1609449968   \n",
       "41305       41300  knziro      1   1609453786   \n",
       "41306       41304  ko0212      1   1609455696   \n",
       "41307       41307  ko0m15      1   1609457690   \n",
       "41308       41308  ko0urv      1   1609458584   \n",
       "\n",
       "                                                   title  num_comments  \\\n",
       "0      First attempt at a starter, really hope I mana...             5   \n",
       "1      Skillet &amp; Dutch Oven Sourdough in the rain...             0   \n",
       "12                                  Analyzing sourdough?             1   \n",
       "13     Ginger tumeric loaf to guide me out of the decade             2   \n",
       "27                My sourdough starter smells like vomit             7   \n",
       "...                                                  ...           ...   \n",
       "41304  Such a sense of pride seeing it double. Winter...             4   \n",
       "41305                                     Starter in LA?             5   \n",
       "41306                            Honey walnut sourdough!             0   \n",
       "41307  Got my first starter last week as a Christmas ...             2   \n",
       "41308            Last 2020 feeding for Dame Judi Stench!             0   \n",
       "\n",
       "               author posts_by_user             created  created_month  \\\n",
       "0       coentertainer             1 2020-01-01 00:38:51              1   \n",
       "1          Richness69             1 2020-01-01 01:12:09              1   \n",
       "12          amisanyal             1 2020-01-01 04:16:53              1   \n",
       "13         bleuxballs             1 2020-01-01 04:29:16              1   \n",
       "27           nahnahxd             1 2020-01-01 10:44:16              1   \n",
       "...               ...           ...                 ...            ...   \n",
       "41304     Shoobadoo39             1 2020-12-31 21:26:08             12   \n",
       "41305       madshills             1 2020-12-31 22:29:46             12   \n",
       "41306  LifeAsWeKnewIt             1 2020-12-31 23:01:36             12   \n",
       "41307      g28_x0y0z0             1 2020-12-31 23:34:50             12   \n",
       "41308         le72225             1 2020-12-31 23:49:44             12   \n",
       "\n",
       "      created_month_label created_short  created_weekday  created_hour  \\\n",
       "0                 January    2020-01-01                2             0   \n",
       "1                 January    2020-01-01                2             1   \n",
       "12                January    2020-01-01                2             4   \n",
       "13                January    2020-01-01                2             4   \n",
       "27                January    2020-01-01                2            10   \n",
       "...                   ...           ...              ...           ...   \n",
       "41304            December    2020-12-31                3            21   \n",
       "41305            December    2020-12-31                3            22   \n",
       "41306            December    2020-12-31                3            23   \n",
       "41307            December    2020-12-31                3            23   \n",
       "41308            December    2020-12-31                3            23   \n",
       "\n",
       "       created_week  \n",
       "0                 1  \n",
       "1                 1  \n",
       "12                1  \n",
       "13                1  \n",
       "27                1  \n",
       "...             ...  \n",
       "41304            53  \n",
       "41305            53  \n",
       "41306            53  \n",
       "41307            53  \n",
       "41308            53  \n",
       "\n",
       "[9483 rows x 15 columns]"
      ]
     },
     "execution_count": 58,
     "metadata": {},
     "output_type": "execute_result"
    }
   ],
   "source": [
    "df.loc[df[\"posts_by_user\"]== '1']"
   ]
  },
  {
   "cell_type": "code",
   "execution_count": 62,
   "metadata": {},
   "outputs": [
    {
     "data": {
      "text/plain": [
       "<AxesSubplot:xlabel='created_month'>"
      ]
     },
     "execution_count": 62,
     "metadata": {},
     "output_type": "execute_result"
    },
    {
     "data": {
      "image/png": "[encoded data removed]",
      "text/plain": [
       "<Figure size 864x288 with 1 Axes>"
      ]
     },
     "metadata": {
      "needs_background": "light"
     },
     "output_type": "display_data"
    }
   ],
   "source": [
    "df.loc[df[\"posts_by_user\"]=='1'].groupby(\"created_month\")[\"id\"].count().plot(kind='line', figsize=(12,4))"
   ]
  },
  {
   "cell_type": "code",
   "execution_count": 61,
   "metadata": {},
   "outputs": [
    {
     "data": {
      "text/plain": [
       "<AxesSubplot:xlabel='created_month'>"
      ]
     },
     "execution_count": 61,
     "metadata": {},
     "output_type": "execute_result"
    },
    {
     "data": {
      "image/png": "[encoded data removed]",
      "text/plain": [
       "<Figure size 864x288 with 1 Axes>"
      ]
     },
     "metadata": {
      "needs_background": "light"
     },
     "output_type": "display_data"
    }
   ],
   "source": [
    "df.loc[df[\"posts_by_user\"]=='2'].groupby(\"created_month\")[\"id\"].count().plot(kind='line', figsize=(12,4))"
   ]
  },
  {
   "cell_type": "code",
   "execution_count": 68,
   "metadata": {},
   "outputs": [
    {
     "data": {
      "text/plain": [
       "<AxesSubplot:xlabel='created_month'>"
      ]
     },
     "execution_count": 68,
     "metadata": {},
     "output_type": "execute_result"
    },
    {
     "data": {
      "image/png": "[encoded data removed]",
      "text/plain": [
       "<Figure size 864x288 with 1 Axes>"
      ]
     },
     "metadata": {
      "needs_background": "light"
     },
     "output_type": "display_data"
    }
   ],
   "source": [
    "df.loc[df[\"posts_by_user\"]=='6-10'].groupby(\"created_month\")[\"id\"].count().plot(kind='line', figsize=(12,4))"
   ]
  },
  {
   "cell_type": "code",
   "execution_count": 75,
   "metadata": {},
   "outputs": [
    {
     "data": {
      "text/plain": [
       "<AxesSubplot:xlabel='created_month'>"
      ]
     },
     "execution_count": 75,
     "metadata": {},
     "output_type": "execute_result"
    },
    {
     "data": {
      "image/png": "[encoded data removed]",
      "text/plain": [
       "<Figure size 864x288 with 1 Axes>"
      ]
     },
     "metadata": {
      "needs_background": "light"
     },
     "output_type": "display_data"
    }
   ],
   "source": [
    "df.loc[df[\"posts_by_user\"]=='1'].groupby(\"created_month\")[\"author\"].nunique().plot(kind='line', figsize=(12,4))"
   ]
  },
  {
   "cell_type": "code",
   "execution_count": 74,
   "metadata": {},
   "outputs": [
    {
     "data": {
      "text/plain": [
       "<AxesSubplot:xlabel='created_month'>"
      ]
     },
     "execution_count": 74,
     "metadata": {},
     "output_type": "execute_result"
    },
    {
     "data": {
      "image/png": "[encoded data removed]",
      "text/plain": [
       "<Figure size 864x288 with 1 Axes>"
      ]
     },
     "metadata": {
      "needs_background": "light"
     },
     "output_type": "display_data"
    }
   ],
   "source": [
    "df.loc[df[\"posts_by_user\"]=='2'].groupby(\"created_month\")[\"author\"].nunique().plot(kind='line', figsize=(12,4))"
   ]
  },
  {
   "cell_type": "code",
   "execution_count": 73,
   "metadata": {},
   "outputs": [
    {
     "data": {
      "text/plain": [
       "<AxesSubplot:xlabel='created_month'>"
      ]
     },
     "execution_count": 73,
     "metadata": {},
     "output_type": "execute_result"
    },
    {
     "data": {
      "image/png": "[encoded data removed]",
      "text/plain": [
       "<Figure size 864x288 with 1 Axes>"
      ]
     },
     "metadata": {
      "needs_background": "light"
     },
     "output_type": "display_data"
    }
   ],
   "source": [
    "df.loc[df[\"posts_by_user\"]=='3-5'].groupby(\"created_month\")[\"author\"].nunique().plot(kind='line', figsize=(12,4))"
   ]
  },
  {
   "cell_type": "code",
   "execution_count": 71,
   "metadata": {},
   "outputs": [
    {
     "data": {
      "text/plain": [
       "<AxesSubplot:xlabel='created_month'>"
      ]
     },
     "execution_count": 71,
     "metadata": {},
     "output_type": "execute_result"
    },
    {
     "data": {
      "image/png": "[encoded data removed]",
      "text/plain": [
       "<Figure size 864x288 with 1 Axes>"
      ]
     },
     "metadata": {
      "needs_background": "light"
     },
     "output_type": "display_data"
    }
   ],
   "source": [
    "df.loc[df[\"posts_by_user\"]=='6-10'].groupby(\"created_month\")[\"author\"].nunique().plot(kind='line', figsize=(12,4))"
   ]
  },
  {
   "cell_type": "code",
   "execution_count": 70,
   "metadata": {},
   "outputs": [
    {
     "data": {
      "text/plain": [
       "<AxesSubplot:xlabel='created_month'>"
      ]
     },
     "execution_count": 70,
     "metadata": {},
     "output_type": "execute_result"
    },
    {
     "data": {
      "image/png": "[encoded data removed]",
      "text/plain": [
       "<Figure size 864x288 with 1 Axes>"
      ]
     },
     "metadata": {
      "needs_background": "light"
     },
     "output_type": "display_data"
    }
   ],
   "source": [
    "df.loc[df[\"posts_by_user\"]=='11-50'].groupby(\"created_month\")[\"author\"].nunique().plot(kind='line', figsize=(12,4))"
   ]
  },
  {
   "cell_type": "code",
   "execution_count": 72,
   "metadata": {},
   "outputs": [
    {
     "data": {
      "text/plain": [
       "<AxesSubplot:xlabel='created_month'>"
      ]
     },
     "execution_count": 72,
     "metadata": {},
     "output_type": "execute_result"
    },
    {
     "data": {
      "image/png": "[encoded data removed]",
      "text/plain": [
       "<Figure size 864x288 with 1 Axes>"
      ]
     },
     "metadata": {
      "needs_background": "light"
     },
     "output_type": "display_data"
    }
   ],
   "source": [
    "df.loc[df[\"posts_by_user\"]=='Over 50'].groupby(\"created_month\")[\"author\"].nunique().plot(kind='line', figsize=(12,4))"
   ]
  },
  {
   "cell_type": "code",
   "execution_count": 69,
   "metadata": {},
   "outputs": [
    {
     "data": {
      "text/html": [
       "<div>\n",
       "<style scoped>\n",
       "    .dataframe tbody tr th:only-of-type {\n",
       "        vertical-align: middle;\n",
       "    }\n",
       "\n",
       "    .dataframe tbody tr th {\n",
       "        vertical-align: top;\n",
       "    }\n",
       "\n",
       "    .dataframe thead th {\n",
       "        text-align: right;\n",
       "    }\n",
       "</style>\n",
       "<table border=\"1\" class=\"dataframe\">\n",
       "  <thead>\n",
       "    <tr style=\"text-align: right;\">\n",
       "      <th></th>\n",
       "      <th>Unnamed: 0</th>\n",
       "      <th>id</th>\n",
       "      <th>score</th>\n",
       "      <th>created_utc</th>\n",
       "      <th>title</th>\n",
       "      <th>num_comments</th>\n",
       "      <th>author</th>\n",
       "      <th>posts_by_user</th>\n",
       "      <th>created</th>\n",
       "      <th>created_month</th>\n",
       "      <th>created_month_label</th>\n",
       "      <th>created_short</th>\n",
       "      <th>created_weekday</th>\n",
       "      <th>created_hour</th>\n",
       "      <th>created_week</th>\n",
       "    </tr>\n",
       "  </thead>\n",
       "  <tbody>\n",
       "    <tr>\n",
       "      <th>131</th>\n",
       "      <td>40</td>\n",
       "      <td>eip33x</td>\n",
       "      <td>1</td>\n",
       "      <td>1577918902</td>\n",
       "      <td>Not my video but so satisfying!</td>\n",
       "      <td>0</td>\n",
       "      <td>Pmcdonald16</td>\n",
       "      <td>Over 50</td>\n",
       "      <td>2020-01-01 22:48:22</td>\n",
       "      <td>1</td>\n",
       "      <td>January</td>\n",
       "      <td>2020-01-01</td>\n",
       "      <td>2</td>\n",
       "      <td>22</td>\n",
       "      <td>1</td>\n",
       "    </tr>\n",
       "    <tr>\n",
       "      <th>132</th>\n",
       "      <td>150</td>\n",
       "      <td>ejwwmd</td>\n",
       "      <td>7</td>\n",
       "      <td>1578146206</td>\n",
       "      <td>Why does my sourdough bread (2nd ever loaf) no...</td>\n",
       "      <td>8</td>\n",
       "      <td>Pmcdonald16</td>\n",
       "      <td>Over 50</td>\n",
       "      <td>2020-01-04 13:56:46</td>\n",
       "      <td>1</td>\n",
       "      <td>January</td>\n",
       "      <td>2020-01-04</td>\n",
       "      <td>5</td>\n",
       "      <td>13</td>\n",
       "      <td>1</td>\n",
       "    </tr>\n",
       "    <tr>\n",
       "      <th>133</th>\n",
       "      <td>151</td>\n",
       "      <td>ejwzhs</td>\n",
       "      <td>8</td>\n",
       "      <td>1578146686</td>\n",
       "      <td>Why is my sourdough doing this?</td>\n",
       "      <td>22</td>\n",
       "      <td>Pmcdonald16</td>\n",
       "      <td>Over 50</td>\n",
       "      <td>2020-01-04 14:04:46</td>\n",
       "      <td>1</td>\n",
       "      <td>January</td>\n",
       "      <td>2020-01-04</td>\n",
       "      <td>5</td>\n",
       "      <td>14</td>\n",
       "      <td>1</td>\n",
       "    </tr>\n",
       "    <tr>\n",
       "      <th>134</th>\n",
       "      <td>927</td>\n",
       "      <td>eqyasg</td>\n",
       "      <td>1</td>\n",
       "      <td>1579450887</td>\n",
       "      <td>Good name for my starter🤔</td>\n",
       "      <td>1</td>\n",
       "      <td>Pmcdonald16</td>\n",
       "      <td>Over 50</td>\n",
       "      <td>2020-01-19 16:21:27</td>\n",
       "      <td>1</td>\n",
       "      <td>January</td>\n",
       "      <td>2020-01-19</td>\n",
       "      <td>6</td>\n",
       "      <td>16</td>\n",
       "      <td>3</td>\n",
       "    </tr>\n",
       "    <tr>\n",
       "      <th>135</th>\n",
       "      <td>1209</td>\n",
       "      <td>etgzkc</td>\n",
       "      <td>1</td>\n",
       "      <td>1579901605</td>\n",
       "      <td>Could I just use my mature sourdough starter i...</td>\n",
       "      <td>1</td>\n",
       "      <td>Pmcdonald16</td>\n",
       "      <td>Over 50</td>\n",
       "      <td>2020-01-24 21:33:25</td>\n",
       "      <td>1</td>\n",
       "      <td>January</td>\n",
       "      <td>2020-01-24</td>\n",
       "      <td>4</td>\n",
       "      <td>21</td>\n",
       "      <td>4</td>\n",
       "    </tr>\n",
       "    <tr>\n",
       "      <th>...</th>\n",
       "      <td>...</td>\n",
       "      <td>...</td>\n",
       "      <td>...</td>\n",
       "      <td>...</td>\n",
       "      <td>...</td>\n",
       "      <td>...</td>\n",
       "      <td>...</td>\n",
       "      <td>...</td>\n",
       "      <td>...</td>\n",
       "      <td>...</td>\n",
       "      <td>...</td>\n",
       "      <td>...</td>\n",
       "      <td>...</td>\n",
       "      <td>...</td>\n",
       "      <td>...</td>\n",
       "    </tr>\n",
       "    <tr>\n",
       "      <th>30115</th>\n",
       "      <td>39599</td>\n",
       "      <td>kagp9s</td>\n",
       "      <td>1</td>\n",
       "      <td>1607612294</td>\n",
       "      <td>Seeded sourdough baguette</td>\n",
       "      <td>0</td>\n",
       "      <td>Breadtales</td>\n",
       "      <td>Over 50</td>\n",
       "      <td>2020-12-10 14:58:14</td>\n",
       "      <td>12</td>\n",
       "      <td>December</td>\n",
       "      <td>2020-12-10</td>\n",
       "      <td>3</td>\n",
       "      <td>14</td>\n",
       "      <td>50</td>\n",
       "    </tr>\n",
       "    <tr>\n",
       "      <th>30116</th>\n",
       "      <td>39803</td>\n",
       "      <td>kcacx6</td>\n",
       "      <td>1</td>\n",
       "      <td>1607865040</td>\n",
       "      <td>100% whole grain boule (spelt+wheat), no knead...</td>\n",
       "      <td>7</td>\n",
       "      <td>Breadtales</td>\n",
       "      <td>Over 50</td>\n",
       "      <td>2020-12-13 13:10:40</td>\n",
       "      <td>12</td>\n",
       "      <td>December</td>\n",
       "      <td>2020-12-13</td>\n",
       "      <td>6</td>\n",
       "      <td>13</td>\n",
       "      <td>50</td>\n",
       "    </tr>\n",
       "    <tr>\n",
       "      <th>30117</th>\n",
       "      <td>40124</td>\n",
       "      <td>kf0bkf</td>\n",
       "      <td>2</td>\n",
       "      <td>1608221649</td>\n",
       "      <td>100% whole grain loaf (50% spelt, 50% wheat).....</td>\n",
       "      <td>2</td>\n",
       "      <td>Breadtales</td>\n",
       "      <td>Over 50</td>\n",
       "      <td>2020-12-17 16:14:09</td>\n",
       "      <td>12</td>\n",
       "      <td>December</td>\n",
       "      <td>2020-12-17</td>\n",
       "      <td>3</td>\n",
       "      <td>16</td>\n",
       "      <td>51</td>\n",
       "    </tr>\n",
       "    <tr>\n",
       "      <th>30118</th>\n",
       "      <td>40930</td>\n",
       "      <td>kl4zpk</td>\n",
       "      <td>1</td>\n",
       "      <td>1609081268</td>\n",
       "      <td>No-knead sourdough demi baguettes</td>\n",
       "      <td>4</td>\n",
       "      <td>Breadtales</td>\n",
       "      <td>Over 50</td>\n",
       "      <td>2020-12-27 15:01:08</td>\n",
       "      <td>12</td>\n",
       "      <td>December</td>\n",
       "      <td>2020-12-27</td>\n",
       "      <td>6</td>\n",
       "      <td>15</td>\n",
       "      <td>52</td>\n",
       "    </tr>\n",
       "    <tr>\n",
       "      <th>30119</th>\n",
       "      <td>41176</td>\n",
       "      <td>kn6f9f</td>\n",
       "      <td>1</td>\n",
       "      <td>1609349044</td>\n",
       "      <td>First bake in my new oven, so much fun :)</td>\n",
       "      <td>0</td>\n",
       "      <td>Breadtales</td>\n",
       "      <td>Over 50</td>\n",
       "      <td>2020-12-30 17:24:04</td>\n",
       "      <td>12</td>\n",
       "      <td>December</td>\n",
       "      <td>2020-12-30</td>\n",
       "      <td>2</td>\n",
       "      <td>17</td>\n",
       "      <td>53</td>\n",
       "    </tr>\n",
       "  </tbody>\n",
       "</table>\n",
       "<p>1301 rows × 15 columns</p>\n",
       "</div>"
      ],
      "text/plain": [
       "       Unnamed: 0      id  score  created_utc  \\\n",
       "131            40  eip33x      1   1577918902   \n",
       "132           150  ejwwmd      7   1578146206   \n",
       "133           151  ejwzhs      8   1578146686   \n",
       "134           927  eqyasg      1   1579450887   \n",
       "135          1209  etgzkc      1   1579901605   \n",
       "...           ...     ...    ...          ...   \n",
       "30115       39599  kagp9s      1   1607612294   \n",
       "30116       39803  kcacx6      1   1607865040   \n",
       "30117       40124  kf0bkf      2   1608221649   \n",
       "30118       40930  kl4zpk      1   1609081268   \n",
       "30119       41176  kn6f9f      1   1609349044   \n",
       "\n",
       "                                                   title  num_comments  \\\n",
       "131                      Not my video but so satisfying!             0   \n",
       "132    Why does my sourdough bread (2nd ever loaf) no...             8   \n",
       "133                      Why is my sourdough doing this?            22   \n",
       "134                            Good name for my starter🤔             1   \n",
       "135    Could I just use my mature sourdough starter i...             1   \n",
       "...                                                  ...           ...   \n",
       "30115                          Seeded sourdough baguette             0   \n",
       "30116  100% whole grain boule (spelt+wheat), no knead...             7   \n",
       "30117  100% whole grain loaf (50% spelt, 50% wheat).....             2   \n",
       "30118                  No-knead sourdough demi baguettes             4   \n",
       "30119          First bake in my new oven, so much fun :)             0   \n",
       "\n",
       "            author posts_by_user             created  created_month  \\\n",
       "131    Pmcdonald16       Over 50 2020-01-01 22:48:22              1   \n",
       "132    Pmcdonald16       Over 50 2020-01-04 13:56:46              1   \n",
       "133    Pmcdonald16       Over 50 2020-01-04 14:04:46              1   \n",
       "134    Pmcdonald16       Over 50 2020-01-19 16:21:27              1   \n",
       "135    Pmcdonald16       Over 50 2020-01-24 21:33:25              1   \n",
       "...            ...           ...                 ...            ...   \n",
       "30115   Breadtales       Over 50 2020-12-10 14:58:14             12   \n",
       "30116   Breadtales       Over 50 2020-12-13 13:10:40             12   \n",
       "30117   Breadtales       Over 50 2020-12-17 16:14:09             12   \n",
       "30118   Breadtales       Over 50 2020-12-27 15:01:08             12   \n",
       "30119   Breadtales       Over 50 2020-12-30 17:24:04             12   \n",
       "\n",
       "      created_month_label created_short  created_weekday  created_hour  \\\n",
       "131               January    2020-01-01                2            22   \n",
       "132               January    2020-01-04                5            13   \n",
       "133               January    2020-01-04                5            14   \n",
       "134               January    2020-01-19                6            16   \n",
       "135               January    2020-01-24                4            21   \n",
       "...                   ...           ...              ...           ...   \n",
       "30115            December    2020-12-10                3            14   \n",
       "30116            December    2020-12-13                6            13   \n",
       "30117            December    2020-12-17                3            16   \n",
       "30118            December    2020-12-27                6            15   \n",
       "30119            December    2020-12-30                2            17   \n",
       "\n",
       "       created_week  \n",
       "131               1  \n",
       "132               1  \n",
       "133               1  \n",
       "134               3  \n",
       "135               4  \n",
       "...             ...  \n",
       "30115            50  \n",
       "30116            50  \n",
       "30117            51  \n",
       "30118            52  \n",
       "30119            53  \n",
       "\n",
       "[1301 rows x 15 columns]"
      ]
     },
     "execution_count": 69,
     "metadata": {},
     "output_type": "execute_result"
    }
   ],
   "source": [
    "df.loc[df[\"posts_by_user\"]=='Over 50']"
   ]
  },
  {
   "cell_type": "markdown",
   "metadata": {},
   "source": [
    "# Text analysis\n",
    "\n",
    "- [How To Perform Sentiment Analysis in Python 3 Using the Natural Language Toolkit (NLTK)](https://www.digitalocean.com/community/tutorials/how-to-perform-sentiment-analysis-in-python-3-using-the-natural-language-toolkit-nltk)\n",
    "- [Sentiment Analysis on Reddit News Headlines with Python’s Natural Language Toolkit (NLTK)](https://www.learndatasci.com/tutorials/sentiment-analysis-reddit-headlines-pythons-nltk/)"
   ]
  },
  {
   "cell_type": "markdown",
   "metadata": {},
   "source": [
    "## Sentiment analysis on title using nltk Vader"
   ]
  },
  {
   "cell_type": "code",
   "execution_count": 193,
   "metadata": {},
   "outputs": [
    {
     "name": "stdout",
     "output_type": "stream",
     "text": [
      "[{'neg': 0.0, 'neu': 0.655, 'pos': 0.345, 'compound': 0.6997, 'title': 'first attempt starter really hope manage keep alive mixed existence open second decade'}, {'neg': 0.178, 'neu': 0.822, 'pos': 0.0, 'compound': -0.0772, 'title': 'skillet dutch oven sourdough rainy pacific northwest'}, {'neg': 0.07, 'neu': 0.579, 'pos': 0.351, 'compound': 0.7783, 'title': 'last bread 2019 use brad claire recipe alive sourdough starter smell bit sweet weird bread turn good anyways'}]\n"
     ]
    }
   ],
   "source": [
    "from nltk.sentiment.vader import SentimentIntensityAnalyzer as SIA\n",
    "\n",
    "sia = SIA()\n",
    "results = []\n",
    "\n",
    "for line in titles_lemmatised:\n",
    "    pol_score = sia.polarity_scores(line)\n",
    "    pol_score['title'] = line\n",
    "    results.append(pol_score)\n",
    "\n",
    "print(results[:3])"
   ]
  },
  {
   "cell_type": "code",
   "execution_count": 194,
   "metadata": {},
   "outputs": [
    {
     "data": {
      "text/html": [
       "<div>\n",
       "<style scoped>\n",
       "    .dataframe tbody tr th:only-of-type {\n",
       "        vertical-align: middle;\n",
       "    }\n",
       "\n",
       "    .dataframe tbody tr th {\n",
       "        vertical-align: top;\n",
       "    }\n",
       "\n",
       "    .dataframe thead th {\n",
       "        text-align: right;\n",
       "    }\n",
       "</style>\n",
       "<table border=\"1\" class=\"dataframe\">\n",
       "  <thead>\n",
       "    <tr style=\"text-align: right;\">\n",
       "      <th></th>\n",
       "      <th>neg</th>\n",
       "      <th>neu</th>\n",
       "      <th>pos</th>\n",
       "      <th>compound</th>\n",
       "      <th>title</th>\n",
       "      <th>label</th>\n",
       "    </tr>\n",
       "  </thead>\n",
       "  <tbody>\n",
       "    <tr>\n",
       "      <th>0</th>\n",
       "      <td>0.000</td>\n",
       "      <td>0.655</td>\n",
       "      <td>0.345</td>\n",
       "      <td>0.6997</td>\n",
       "      <td>first attempt starter really hope manage keep ...</td>\n",
       "      <td>1</td>\n",
       "    </tr>\n",
       "    <tr>\n",
       "      <th>1</th>\n",
       "      <td>0.178</td>\n",
       "      <td>0.822</td>\n",
       "      <td>0.000</td>\n",
       "      <td>-0.0772</td>\n",
       "      <td>skillet dutch oven sourdough rainy pacific nor...</td>\n",
       "      <td>0</td>\n",
       "    </tr>\n",
       "    <tr>\n",
       "      <th>2</th>\n",
       "      <td>0.070</td>\n",
       "      <td>0.579</td>\n",
       "      <td>0.351</td>\n",
       "      <td>0.7783</td>\n",
       "      <td>last bread 2019 use brad claire recipe alive s...</td>\n",
       "      <td>1</td>\n",
       "    </tr>\n",
       "    <tr>\n",
       "      <th>3</th>\n",
       "      <td>0.333</td>\n",
       "      <td>0.667</td>\n",
       "      <td>0.000</td>\n",
       "      <td>-0.7181</td>\n",
       "      <td>start bake september never happy decision may ...</td>\n",
       "      <td>-1</td>\n",
       "    </tr>\n",
       "    <tr>\n",
       "      <th>4</th>\n",
       "      <td>0.000</td>\n",
       "      <td>1.000</td>\n",
       "      <td>0.000</td>\n",
       "      <td>0.0000</td>\n",
       "      <td>sourdough book</td>\n",
       "      <td>0</td>\n",
       "    </tr>\n",
       "  </tbody>\n",
       "</table>\n",
       "</div>"
      ],
      "text/plain": [
       "     neg    neu    pos  compound  \\\n",
       "0  0.000  0.655  0.345    0.6997   \n",
       "1  0.178  0.822  0.000   -0.0772   \n",
       "2  0.070  0.579  0.351    0.7783   \n",
       "3  0.333  0.667  0.000   -0.7181   \n",
       "4  0.000  1.000  0.000    0.0000   \n",
       "\n",
       "                                               title  label  \n",
       "0  first attempt starter really hope manage keep ...      1  \n",
       "1  skillet dutch oven sourdough rainy pacific nor...      0  \n",
       "2  last bread 2019 use brad claire recipe alive s...      1  \n",
       "3  start bake september never happy decision may ...     -1  \n",
       "4                                     sourdough book      0  "
      ]
     },
     "execution_count": 194,
     "metadata": {},
     "output_type": "execute_result"
    }
   ],
   "source": [
    "new_df = pd.DataFrame.from_records(results)\n",
    "\n",
    "new_df['label'] = 0\n",
    "new_df.loc[new_df['compound'] > 0.2, 'label'] = 1\n",
    "new_df.loc[new_df['compound'] < -0.2, 'label'] = -1\n",
    "new_df.head()"
   ]
  },
  {
   "cell_type": "code",
   "execution_count": 195,
   "metadata": {},
   "outputs": [
    {
     "name": "stdout",
     "output_type": "stream",
     "text": [
      " 0    20029\n",
      " 1    17308\n",
      "-1     3972\n",
      "Name: label, dtype: int64\n",
      " 0    48.485802\n",
      " 1    41.898860\n",
      "-1     9.615338\n",
      "Name: label, dtype: float64\n"
     ]
    }
   ],
   "source": [
    "df2 = new_df[['title', 'label']]\n",
    "\n",
    "print(df2[\"label\"].value_counts())\n",
    "print(df2[\"label\"].value_counts(normalize=True) * 100)"
   ]
  },
  {
   "cell_type": "code",
   "execution_count": 75,
   "metadata": {},
   "outputs": [],
   "source": [
    "pd.DataFrame(df2.loc[df2[\"label\"]== -1, \"title\"]).to_csv(\".//data/processed/negative_title.csv\")"
   ]
  },
  {
   "cell_type": "code",
   "execution_count": 196,
   "metadata": {},
   "outputs": [
    {
     "data": {
      "text/html": [
       "<div>\n",
       "<style scoped>\n",
       "    .dataframe tbody tr th:only-of-type {\n",
       "        vertical-align: middle;\n",
       "    }\n",
       "\n",
       "    .dataframe tbody tr th {\n",
       "        vertical-align: top;\n",
       "    }\n",
       "\n",
       "    .dataframe thead th {\n",
       "        text-align: right;\n",
       "    }\n",
       "</style>\n",
       "<table border=\"1\" class=\"dataframe\">\n",
       "  <thead>\n",
       "    <tr style=\"text-align: right;\">\n",
       "      <th></th>\n",
       "      <th>title</th>\n",
       "      <th>label</th>\n",
       "    </tr>\n",
       "  </thead>\n",
       "  <tbody>\n",
       "    <tr>\n",
       "      <th>0</th>\n",
       "      <td>first attempt starter really hope manage keep ...</td>\n",
       "      <td>1</td>\n",
       "    </tr>\n",
       "    <tr>\n",
       "      <th>2</th>\n",
       "      <td>last bread 2019 use brad claire recipe alive s...</td>\n",
       "      <td>1</td>\n",
       "    </tr>\n",
       "    <tr>\n",
       "      <th>10</th>\n",
       "      <td>sourdough starter smell like vomit</td>\n",
       "      <td>1</td>\n",
       "    </tr>\n",
       "    <tr>\n",
       "      <th>14</th>\n",
       "      <td>happy turn</td>\n",
       "      <td>1</td>\n",
       "    </tr>\n",
       "    <tr>\n",
       "      <th>15</th>\n",
       "      <td>third attempt much happy result</td>\n",
       "      <td>1</td>\n",
       "    </tr>\n",
       "    <tr>\n",
       "      <th>...</th>\n",
       "      <td>...</td>\n",
       "      <td>...</td>\n",
       "    </tr>\n",
       "    <tr>\n",
       "      <th>41299</th>\n",
       "      <td>right mr demille -PRON- be ready closeup</td>\n",
       "      <td>1</td>\n",
       "    </tr>\n",
       "    <tr>\n",
       "      <th>41301</th>\n",
       "      <td>happy new year</td>\n",
       "      <td>1</td>\n",
       "    </tr>\n",
       "    <tr>\n",
       "      <th>41302</th>\n",
       "      <td>lot fun improve score skill 😊 😊</td>\n",
       "      <td>1</td>\n",
       "    </tr>\n",
       "    <tr>\n",
       "      <th>41305</th>\n",
       "      <td>happy sourdough finally turn month dense pale ...</td>\n",
       "      <td>1</td>\n",
       "    </tr>\n",
       "    <tr>\n",
       "      <th>41307</th>\n",
       "      <td>get first starter last week christmas present ...</td>\n",
       "      <td>1</td>\n",
       "    </tr>\n",
       "  </tbody>\n",
       "</table>\n",
       "<p>17308 rows × 2 columns</p>\n",
       "</div>"
      ],
      "text/plain": [
       "                                                   title  label\n",
       "0      first attempt starter really hope manage keep ...      1\n",
       "2      last bread 2019 use brad claire recipe alive s...      1\n",
       "10                    sourdough starter smell like vomit      1\n",
       "14                                            happy turn      1\n",
       "15                       third attempt much happy result      1\n",
       "...                                                  ...    ...\n",
       "41299           right mr demille -PRON- be ready closeup      1\n",
       "41301                                     happy new year      1\n",
       "41302                    lot fun improve score skill 😊 😊      1\n",
       "41305  happy sourdough finally turn month dense pale ...      1\n",
       "41307  get first starter last week christmas present ...      1\n",
       "\n",
       "[17308 rows x 2 columns]"
      ]
     },
     "execution_count": 196,
     "metadata": {},
     "output_type": "execute_result"
    }
   ],
   "source": [
    "df2.loc[df2[\"label\"]== 1]"
   ]
  },
  {
   "cell_type": "markdown",
   "metadata": {},
   "source": [
    "#### most frequent words"
   ]
  },
  {
   "cell_type": "code",
   "execution_count": 147,
   "metadata": {
    "code_folding": []
   },
   "outputs": [],
   "source": [
    "from nltk.tokenize import word_tokenize, RegexpTokenizer\n",
    "tokenizer = RegexpTokenizer(r'\\w+')\n",
    "tokenizer.tokenize(example)\n",
    "\n",
    "from nltk.corpus import stopwords\n",
    "stop_words = stopwords.words('english')\n",
    "\n",
    "def process_text(titles):\n",
    "    tokens = []\n",
    "    for line in titles:\n",
    "        toks = tokenizer.tokenize(line)\n",
    "        toks = [t.lower() for t in toks if t.lower() not in stop_words]\n",
    "        tokens.extend(toks)\n",
    "    \n",
    "    return tokens"
   ]
  },
  {
   "cell_type": "code",
   "execution_count": 197,
   "metadata": {},
   "outputs": [
    {
     "data": {
      "text/plain": [
       "[('sourdough', 12047),\n",
       " ('loaf', 8432),\n",
       " ('first', 7994),\n",
       " ('starter', 6434),\n",
       " ('bread', 4522),\n",
       " ('make', 4337),\n",
       " ('get', 3781),\n",
       " ('pron', 2926),\n",
       " ('bake', 2909),\n",
       " ('flour', 2749),\n",
       " ('good', 2696),\n",
       " ('attempt', 2620),\n",
       " ('time', 2606),\n",
       " ('crumb', 2518),\n",
       " ('oven', 2445),\n",
       " ('use', 2080),\n",
       " ('recipe', 1946),\n",
       " ('hydration', 1895),\n",
       " ('finally', 1857),\n",
       " ('try', 1825),\n",
       " ('one', 1739),\n",
       " ('day', 1698),\n",
       " ('happy', 1675),\n",
       " ('dough', 1642),\n",
       " ('well', 1632),\n",
       " ('help', 1568),\n",
       " ('like', 1494),\n",
       " ('go', 1449),\n",
       " ('look', 1386),\n",
       " ('rise', 1373),\n",
       " ('today', 1347),\n",
       " ('wheat', 1343),\n",
       " ('whole', 1282),\n",
       " ('ever', 1227),\n",
       " ('second', 1215),\n",
       " ('ear', 1184),\n",
       " ('still', 1179),\n",
       " ('think', 1156),\n",
       " ('start', 1140),\n",
       " ('rye', 1125),\n",
       " ('discard', 1085),\n",
       " ('score', 1021),\n",
       " ('turn', 1012),\n",
       " ('new', 985),\n",
       " ('pretty', 959),\n",
       " ('week', 904),\n",
       " ('little', 883),\n",
       " ('need', 877),\n",
       " ('dutch', 847),\n",
       " ('yet', 822),\n",
       " ('pizza', 819),\n",
       " ('hour', 818),\n",
       " ('much', 818),\n",
       " ('taste', 818),\n",
       " ('spring', 813),\n",
       " ('work', 811),\n",
       " ('tip', 807),\n",
       " ('great', 792),\n",
       " ('come', 787),\n",
       " ('proud', 786),\n",
       " ('baking', 779),\n",
       " ('proof', 778),\n",
       " ('question', 751),\n",
       " ('result', 749),\n",
       " ('2', 746),\n",
       " ('really', 722),\n",
       " ('morning', 709),\n",
       " ('feed', 688),\n",
       " ('fridge', 686),\n",
       " ('crust', 673),\n",
       " ('month', 660),\n",
       " ('two', 654),\n",
       " ('shape', 650),\n",
       " ('love', 642),\n",
       " ('advice', 640),\n",
       " ('comment', 593),\n",
       " ('delicious', 591),\n",
       " ('open', 589),\n",
       " ('boule', 589),\n",
       " ('take', 588),\n",
       " ('3', 565),\n",
       " ('bit', 562),\n",
       " ('thank', 561),\n",
       " ('last', 555),\n",
       " ('anyone', 551),\n",
       " ('long', 548),\n",
       " ('add', 541),\n",
       " ('see', 541),\n",
       " ('perfect', 539),\n",
       " ('wrong', 538),\n",
       " ('top', 538),\n",
       " ('100', 538),\n",
       " ('white', 531),\n",
       " ('focaccia', 528),\n",
       " ('old', 523),\n",
       " ('smell', 522),\n",
       " ('want', 520),\n",
       " ('post', 513),\n",
       " ('bulk', 506),\n",
       " ('would', 502)]"
      ]
     },
     "execution_count": 197,
     "metadata": {},
     "output_type": "execute_result"
    }
   ],
   "source": [
    "title_tokens = process_text(df2[\"title\"])\n",
    "word_freq = nltk.FreqDist(title_tokens)\n",
    "\n",
    "word_freq.most_common(100)"
   ]
  },
  {
   "cell_type": "markdown",
   "metadata": {},
   "source": [
    "#### most frequent positive words"
   ]
  },
  {
   "cell_type": "code",
   "execution_count": 198,
   "metadata": {},
   "outputs": [
    {
     "data": {
      "text/plain": [
       "[('sourdough', 4966),\n",
       " ('loaf', 4563),\n",
       " ('first', 3974),\n",
       " ('starter', 2639),\n",
       " ('good', 2452),\n",
       " ('make', 2278),\n",
       " ('bread', 2145),\n",
       " ('get', 2074),\n",
       " ('pron', 1956),\n",
       " ('happy', 1585),\n",
       " ('crumb', 1477),\n",
       " ('well', 1461),\n",
       " ('bake', 1435),\n",
       " ('time', 1428),\n",
       " ('help', 1359),\n",
       " ('attempt', 1347),\n",
       " ('like', 1292),\n",
       " ('flour', 1249),\n",
       " ('oven', 1244),\n",
       " ('one', 1153)]"
      ]
     },
     "execution_count": 198,
     "metadata": {},
     "output_type": "execute_result"
    }
   ],
   "source": [
    "pos_lines = list(df2.loc[df2[\"label\"] == 1, \"title\"])\n",
    "\n",
    "pos_tokens = process_text(pos_lines)\n",
    "pos_freq = nltk.FreqDist(pos_tokens)\n",
    "\n",
    "pos_freq.most_common(20)"
   ]
  },
  {
   "cell_type": "markdown",
   "metadata": {},
   "source": [
    "#### most frequent negative words"
   ]
  },
  {
   "cell_type": "code",
   "execution_count": 151,
   "metadata": {},
   "outputs": [
    {
     "data": {
      "text/plain": [
       "[('sourdough', 933),\n",
       " ('starter', 807),\n",
       " ('discard', 608),\n",
       " ('first', 583),\n",
       " ('loaf', 530),\n",
       " ('bread', 370),\n",
       " ('wrong', 342),\n",
       " ('bad', 240),\n",
       " ('oven', 234),\n",
       " ('made', 212),\n",
       " ('time', 194),\n",
       " ('dough', 191),\n",
       " ('flour', 189),\n",
       " ('attempt', 158),\n",
       " ('crumb', 148),\n",
       " ('recipe', 143),\n",
       " ('hydration', 132),\n",
       " ('finally', 123),\n",
       " ('day', 118),\n",
       " ('got', 117)]"
      ]
     },
     "execution_count": 151,
     "metadata": {},
     "output_type": "execute_result"
    }
   ],
   "source": [
    "neg_lines = list(df2.loc[df2[\"label\"] == -1, \"title\"])\n",
    "\n",
    "neg_tokens = process_text(neg_lines)\n",
    "neg_freq = nltk.FreqDist(neg_tokens)\n",
    "\n",
    "neg_freq.most_common(20)"
   ]
  },
  {
   "cell_type": "code",
   "execution_count": 199,
   "metadata": {},
   "outputs": [
    {
     "data": {
      "text/plain": [
       "[('sourdough', 980),\n",
       " ('starter', 835),\n",
       " ('first', 634),\n",
       " ('discard', 616),\n",
       " ('loaf', 588),\n",
       " ('make', 419),\n",
       " ('bread', 410),\n",
       " ('get', 359),\n",
       " ('wrong', 341),\n",
       " ('go', 282),\n",
       " ('pron', 272),\n",
       " ('bad', 254),\n",
       " ('bake', 244),\n",
       " ('oven', 242),\n",
       " ('use', 233),\n",
       " ('time', 232),\n",
       " ('crumb', 221),\n",
       " ('attempt', 210),\n",
       " ('dough', 210),\n",
       " ('flour', 209)]"
      ]
     },
     "execution_count": 199,
     "metadata": {},
     "output_type": "execute_result"
    }
   ],
   "source": [
    "neg_lines = list(df2.loc[df2[\"label\"] == -1, \"title\"])\n",
    "\n",
    "neg_tokens = process_text(neg_lines)\n",
    "neg_freq = nltk.FreqDist(neg_tokens)\n",
    "\n",
    "neg_freq.most_common(20)"
   ]
  },
  {
   "cell_type": "code",
   "execution_count": 200,
   "metadata": {},
   "outputs": [
    {
     "data": {
      "text/plain": [
       "0        first attempt starter really hope manage keep ...\n",
       "2        last bread 2019 use brad claire recipe alive s...\n",
       "10                      sourdough starter smell like vomit\n",
       "14                                              happy turn\n",
       "15                         third attempt much happy result\n",
       "                               ...                        \n",
       "41299             right mr demille -PRON- be ready closeup\n",
       "41301                                       happy new year\n",
       "41302                      lot fun improve score skill 😊 😊\n",
       "41305    happy sourdough finally turn month dense pale ...\n",
       "41307    get first starter last week christmas present ...\n",
       "Name: title, Length: 17308, dtype: object"
      ]
     },
     "execution_count": 200,
     "metadata": {},
     "output_type": "execute_result"
    }
   ],
   "source": [
    "df2.loc[df2[\"label\"] == 1, \"title\"]"
   ]
  },
  {
   "cell_type": "markdown",
   "metadata": {},
   "source": [
    "## Topic analysis"
   ]
  },
  {
   "cell_type": "code",
   "execution_count": null,
   "metadata": {},
   "outputs": [],
   "source": []
  }
 ],
 "metadata": {
  "kernelspec": {
   "display_name": "py3_breadit",
   "language": "python",
   "name": "py3_breadit"
  },
  "language_info": {
   "codemirror_mode": {
    "name": "ipython",
    "version": 3
   },
   "file_extension": ".py",
   "mimetype": "text/x-python",
   "name": "python",
   "nbconvert_exporter": "python",
   "pygments_lexer": "ipython3",
   "version": "3.9.1"
  },
  "toc": {
   "base_numbering": 1,
   "nav_menu": {},
   "number_sections": true,
   "sideBar": true,
   "skip_h1_title": false,
   "title_cell": "Table of Contents",
   "title_sidebar": "Contents",
   "toc_cell": false,
   "toc_position": {
    "height": "calc(100% - 180px)",
    "left": "10px",
    "top": "150px",
    "width": "307.2px"
   },
   "toc_section_display": true,
   "toc_window_display": true
  }
 },
 "nbformat": 4,
 "nbformat_minor": 2
}
